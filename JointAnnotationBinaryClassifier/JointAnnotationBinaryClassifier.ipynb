{
 "cells": [
  {
   "cell_type": "code",
   "execution_count": 21,
   "id": "126914f6",
   "metadata": {},
   "outputs": [],
   "source": [
    "import pandas as pd\n",
    "import numpy as np\n",
    "from sklearn.model_selection import train_test_split\n",
    "from sklearn.model_selection import StratifiedShuffleSplit\n",
    "from sklearn.pipeline import make_pipeline\n",
    "from sklearn.impute import SimpleImputer\n",
    "from sklearn.preprocessing import StandardScaler\n",
    "from sklearn.compose import make_column_selector, make_column_transformer\n",
    "from sklearn.ensemble import RandomForestClassifier\n",
    "from sklearn.model_selection import cross_val_score, cross_val_predict, RandomizedSearchCV\n",
    "from sklearn.metrics import classification_report, f1_score, confusion_matrix, ConfusionMatrixDisplay\n",
    "import matplotlib.pyplot as plt"
   ]
  },
  {
   "cell_type": "code",
   "execution_count": 2,
   "id": "e19d087b",
   "metadata": {},
   "outputs": [
    {
     "name": "stdout",
     "output_type": "stream",
     "text": [
      "2281\n"
     ]
    }
   ],
   "source": [
    "data = pd.read_csv(\"data/mpii_dataset.csv\")\n",
    "print(len(data))"
   ]
  },
  {
   "cell_type": "code",
   "execution_count": 4,
   "id": "4ace92bd",
   "metadata": {
    "scrolled": true
   },
   "outputs": [
    {
     "name": "stdout",
     "output_type": "stream",
     "text": [
      "<class 'pandas.core.frame.DataFrame'>\n",
      "RangeIndex: 2281 entries, 0 to 2280\n",
      "Data columns (total 46 columns):\n",
      " #   Column          Non-Null Count  Dtype  \n",
      "---  ------          --------------  -----  \n",
      " 0   head_x          2281 non-null   float64\n",
      " 1   head_y          2281 non-null   float64\n",
      " 2   head_vis        2281 non-null   int64  \n",
      " 3   upper_neck_x    2281 non-null   float64\n",
      " 4   upper_neck_y    2281 non-null   float64\n",
      " 5   upper_neck_vis  2281 non-null   int64  \n",
      " 6   thorax_x        2281 non-null   int64  \n",
      " 7   thorax_y        2281 non-null   int64  \n",
      " 8   thorax_vis      2281 non-null   int64  \n",
      " 9   lsho_x          2281 non-null   int64  \n",
      " 10  lsho_y          2281 non-null   int64  \n",
      " 11  lsho_vis        2281 non-null   int64  \n",
      " 12  rsho_x          2281 non-null   int64  \n",
      " 13  rsho_y          2281 non-null   int64  \n",
      " 14  rsho_vis        2281 non-null   int64  \n",
      " 15  lelb_x          2281 non-null   int64  \n",
      " 16  lelb_y          2281 non-null   int64  \n",
      " 17  lelb_vis        2281 non-null   int64  \n",
      " 18  relb_x          2281 non-null   int64  \n",
      " 19  relb_y          2281 non-null   int64  \n",
      " 20  relb_vis        2281 non-null   int64  \n",
      " 21  lwri_x          2281 non-null   int64  \n",
      " 22  lwri_y          2281 non-null   int64  \n",
      " 23  lwri_vis        2281 non-null   int64  \n",
      " 24  rwri_x          2281 non-null   int64  \n",
      " 25  rwri_y          2281 non-null   int64  \n",
      " 26  rwri_vis        2281 non-null   int64  \n",
      " 27  lhip_x          2281 non-null   int64  \n",
      " 28  lhip_y          2281 non-null   int64  \n",
      " 29  lhip_vis        2281 non-null   int64  \n",
      " 30  rhip_x          2281 non-null   int64  \n",
      " 31  rhip_y          2281 non-null   int64  \n",
      " 32  rhip_vis        2281 non-null   int64  \n",
      " 33  lknee_x         2281 non-null   int64  \n",
      " 34  lknee_y         2281 non-null   int64  \n",
      " 35  lknee_vis       2281 non-null   int64  \n",
      " 36  rknee_x         2281 non-null   int64  \n",
      " 37  rknee_y         2281 non-null   int64  \n",
      " 38  rknee_vis       2281 non-null   int64  \n",
      " 39  lankl_x         2281 non-null   int64  \n",
      " 40  lankl_y         2281 non-null   int64  \n",
      " 41  lankl_vis       2281 non-null   int64  \n",
      " 42  rankl_x         2281 non-null   int64  \n",
      " 43  rankl_y         2281 non-null   int64  \n",
      " 44  rankl_vis       2281 non-null   int64  \n",
      " 45  sport           2281 non-null   int64  \n",
      "dtypes: float64(4), int64(42)\n",
      "memory usage: 819.9 KB\n"
     ]
    }
   ],
   "source": [
    "data.info()"
   ]
  },
  {
   "cell_type": "code",
   "execution_count": 5,
   "id": "ebeae8bc",
   "metadata": {},
   "outputs": [
    {
     "name": "stdout",
     "output_type": "stream",
     "text": [
      "[]\n"
     ]
    }
   ],
   "source": [
    "# List columns with missing data\n",
    "missing_data = data.isna().any()\n",
    "columns_with_missing_data = missing_data[missing_data].index.tolist()\n",
    "print(columns_with_missing_data)"
   ]
  },
  {
   "cell_type": "code",
   "execution_count": 15,
   "id": "f52039ab-aa23-424e-9108-afe9ea44e68f",
   "metadata": {},
   "outputs": [
    {
     "data": {
      "text/plain": [
       "sport\n",
       "1    1587\n",
       "0     694\n",
       "Name: count, dtype: int64"
      ]
     },
     "execution_count": 15,
     "metadata": {},
     "output_type": "execute_result"
    }
   ],
   "source": [
    "# Display the class imbalance\n",
    "data[\"sport\"].value_counts()"
   ]
  },
  {
   "cell_type": "code",
   "execution_count": 12,
   "id": "7c057333-76da-4337-9d79-2b6b80d5e36e",
   "metadata": {},
   "outputs": [
    {
     "name": "stdout",
     "output_type": "stream",
     "text": [
      "Train rows: 1824, Test rows: 457\n"
     ]
    }
   ],
   "source": [
    "#Split the dataset into a stratified train and test set (80-20) using sport as the class labels\n",
    "strat_train_set, strat_test_set = train_test_split(data, test_size=0.2, \n",
    "                                                   stratify=data['sport'], random_state = 42)\n",
    "\n",
    "\n",
    "#Begin preparation of data for ML algorithms with fresh copy of training data\n",
    "train_copy = strat_train_set.copy()\n",
    "test_copy = strat_test_set.copy()\n",
    "\n",
    "#Separate the predictors and the label (sport) in the train and test sets\n",
    "train_data = train_copy.drop('sport', axis=1)\n",
    "train_labels = train_copy['sport'].copy()\n",
    "test_data = test_copy.drop('sport', axis=1)\n",
    "test_labels = test_copy['sport'].copy()\n",
    "\n",
    "# Final dataset shapes\n",
    "print(f\"Train rows: {train_data.shape[0]}, Test rows: {test_data.shape[0]}\")"
   ]
  },
  {
   "cell_type": "code",
   "execution_count": 13,
   "id": "478707f4-8d06-4d96-90f4-df3a8c5932a8",
   "metadata": {},
   "outputs": [
    {
     "name": "stdout",
     "output_type": "stream",
     "text": [
      "Train class distribution:\n",
      "sport\n",
      "1    0.695724\n",
      "0    0.304276\n",
      "Name: proportion, dtype: float64\n",
      "\n",
      "Validation class distribution:\n",
      "\n",
      "Test class distribution:\n",
      "sport\n",
      "1    0.695842\n",
      "0    0.304158\n",
      "Name: proportion, dtype: float64\n"
     ]
    }
   ],
   "source": [
    "# Verify that the class distributions are consistent throughout the three sets\n",
    "print(\"Train class distribution:\")\n",
    "print(train_labels.value_counts(normalize=True))\n",
    "print(\"\\nValidation class distribution:\")\n",
    "print(\"\\nTest class distribution:\")\n",
    "print(test_labels.value_counts(normalize=True))"
   ]
  },
  {
   "cell_type": "code",
   "execution_count": 8,
   "id": "f38d593e",
   "metadata": {},
   "outputs": [],
   "source": [
    "#Create pipelines for numerical attributes\n",
    "#Imputer with median strategy and then a standard scaler is used on the numerical data\n",
    "num_pipeline = make_pipeline(SimpleImputer(strategy=\"median\"), StandardScaler())\n",
    "\n",
    "#Select columns with numerical attributes\n",
    "preprocessing = make_column_transformer(\n",
    "(num_pipeline, make_column_selector(dtype_include=np.number)),\n",
    ")"
   ]
  },
  {
   "cell_type": "code",
   "execution_count": 16,
   "id": "137515ed",
   "metadata": {},
   "outputs": [
    {
     "data": {
      "text/html": [
       "<style>#sk-container-id-1 {color: black;background-color: white;}#sk-container-id-1 pre{padding: 0;}#sk-container-id-1 div.sk-toggleable {background-color: white;}#sk-container-id-1 label.sk-toggleable__label {cursor: pointer;display: block;width: 100%;margin-bottom: 0;padding: 0.3em;box-sizing: border-box;text-align: center;}#sk-container-id-1 label.sk-toggleable__label-arrow:before {content: \"▸\";float: left;margin-right: 0.25em;color: #696969;}#sk-container-id-1 label.sk-toggleable__label-arrow:hover:before {color: black;}#sk-container-id-1 div.sk-estimator:hover label.sk-toggleable__label-arrow:before {color: black;}#sk-container-id-1 div.sk-toggleable__content {max-height: 0;max-width: 0;overflow: hidden;text-align: left;background-color: #f0f8ff;}#sk-container-id-1 div.sk-toggleable__content pre {margin: 0.2em;color: black;border-radius: 0.25em;background-color: #f0f8ff;}#sk-container-id-1 input.sk-toggleable__control:checked~div.sk-toggleable__content {max-height: 200px;max-width: 100%;overflow: auto;}#sk-container-id-1 input.sk-toggleable__control:checked~label.sk-toggleable__label-arrow:before {content: \"▾\";}#sk-container-id-1 div.sk-estimator input.sk-toggleable__control:checked~label.sk-toggleable__label {background-color: #d4ebff;}#sk-container-id-1 div.sk-label input.sk-toggleable__control:checked~label.sk-toggleable__label {background-color: #d4ebff;}#sk-container-id-1 input.sk-hidden--visually {border: 0;clip: rect(1px 1px 1px 1px);clip: rect(1px, 1px, 1px, 1px);height: 1px;margin: -1px;overflow: hidden;padding: 0;position: absolute;width: 1px;}#sk-container-id-1 div.sk-estimator {font-family: monospace;background-color: #f0f8ff;border: 1px dotted black;border-radius: 0.25em;box-sizing: border-box;margin-bottom: 0.5em;}#sk-container-id-1 div.sk-estimator:hover {background-color: #d4ebff;}#sk-container-id-1 div.sk-parallel-item::after {content: \"\";width: 100%;border-bottom: 1px solid gray;flex-grow: 1;}#sk-container-id-1 div.sk-label:hover label.sk-toggleable__label {background-color: #d4ebff;}#sk-container-id-1 div.sk-serial::before {content: \"\";position: absolute;border-left: 1px solid gray;box-sizing: border-box;top: 0;bottom: 0;left: 50%;z-index: 0;}#sk-container-id-1 div.sk-serial {display: flex;flex-direction: column;align-items: center;background-color: white;padding-right: 0.2em;padding-left: 0.2em;position: relative;}#sk-container-id-1 div.sk-item {position: relative;z-index: 1;}#sk-container-id-1 div.sk-parallel {display: flex;align-items: stretch;justify-content: center;background-color: white;position: relative;}#sk-container-id-1 div.sk-item::before, #sk-container-id-1 div.sk-parallel-item::before {content: \"\";position: absolute;border-left: 1px solid gray;box-sizing: border-box;top: 0;bottom: 0;left: 50%;z-index: -1;}#sk-container-id-1 div.sk-parallel-item {display: flex;flex-direction: column;z-index: 1;position: relative;background-color: white;}#sk-container-id-1 div.sk-parallel-item:first-child::after {align-self: flex-end;width: 50%;}#sk-container-id-1 div.sk-parallel-item:last-child::after {align-self: flex-start;width: 50%;}#sk-container-id-1 div.sk-parallel-item:only-child::after {width: 0;}#sk-container-id-1 div.sk-dashed-wrapped {border: 1px dashed gray;margin: 0 0.4em 0.5em 0.4em;box-sizing: border-box;padding-bottom: 0.4em;background-color: white;}#sk-container-id-1 div.sk-label label {font-family: monospace;font-weight: bold;display: inline-block;line-height: 1.2em;}#sk-container-id-1 div.sk-label-container {text-align: center;}#sk-container-id-1 div.sk-container {/* jupyter's `normalize.less` sets `[hidden] { display: none; }` but bootstrap.min.css set `[hidden] { display: none !important; }` so we also need the `!important` here to be able to override the default hidden behavior on the sphinx rendered scikit-learn.org. See: https://github.com/scikit-learn/scikit-learn/issues/21755 */display: inline-block !important;position: relative;}#sk-container-id-1 div.sk-text-repr-fallback {display: none;}</style><div id=\"sk-container-id-1\" class=\"sk-top-container\"><div class=\"sk-text-repr-fallback\"><pre>RandomizedSearchCV(cv=10,\n",
       "                   estimator=Pipeline(steps=[(&#x27;columntransformer&#x27;,\n",
       "                                              ColumnTransformer(transformers=[(&#x27;pipeline&#x27;,\n",
       "                                                                               Pipeline(steps=[(&#x27;simpleimputer&#x27;,\n",
       "                                                                                                SimpleImputer(strategy=&#x27;median&#x27;)),\n",
       "                                                                                               (&#x27;standardscaler&#x27;,\n",
       "                                                                                                StandardScaler())]),\n",
       "                                                                               &lt;sklearn.compose._column_transformer.make_column_selector object at 0x76fb659f1f60&gt;)])),\n",
       "                                             (&#x27;randomforestclassifier&#x27;,\n",
       "                                              RandomForestClassi...\n",
       "                   param_distributions={&#x27;randomforestclassifier__max_depth&#x27;: [5,\n",
       "                                                                              10,\n",
       "                                                                              20,\n",
       "                                                                              30,\n",
       "                                                                              None],\n",
       "                                        &#x27;randomforestclassifier__min_samples_leaf&#x27;: [1,\n",
       "                                                                                     2,\n",
       "                                                                                     3,\n",
       "                                                                                     4,\n",
       "                                                                                     5,\n",
       "                                                                                     6,\n",
       "                                                                                     7,\n",
       "                                                                                     8,\n",
       "                                                                                     9,\n",
       "                                                                                     10],\n",
       "                                        &#x27;randomforestclassifier__min_samples_split&#x27;: [2,\n",
       "                                                                                      3,\n",
       "                                                                                      4,\n",
       "                                                                                      5,\n",
       "                                                                                      6,\n",
       "                                                                                      7,\n",
       "                                                                                      8,\n",
       "                                                                                      9,\n",
       "                                                                                      10,\n",
       "                                                                                      11,\n",
       "                                                                                      12,\n",
       "                                                                                      13,\n",
       "                                                                                      14,\n",
       "                                                                                      15,\n",
       "                                                                                      16,\n",
       "                                                                                      17,\n",
       "                                                                                      18,\n",
       "                                                                                      19,\n",
       "                                                                                      20],\n",
       "                                        &#x27;randomforestclassifier__n_estimators&#x27;: [50,\n",
       "                                                                                 100,\n",
       "                                                                                 150,\n",
       "                                                                                 200,\n",
       "                                                                                 300,\n",
       "                                                                                 400]},\n",
       "                   random_state=42, return_train_score=True,\n",
       "                   scoring=&#x27;f1_macro&#x27;)</pre><b>In a Jupyter environment, please rerun this cell to show the HTML representation or trust the notebook. <br />On GitHub, the HTML representation is unable to render, please try loading this page with nbviewer.org.</b></div><div class=\"sk-container\" hidden><div class=\"sk-item sk-dashed-wrapped\"><div class=\"sk-label-container\"><div class=\"sk-label sk-toggleable\"><input class=\"sk-toggleable__control sk-hidden--visually\" id=\"sk-estimator-id-1\" type=\"checkbox\" ><label for=\"sk-estimator-id-1\" class=\"sk-toggleable__label sk-toggleable__label-arrow\">RandomizedSearchCV</label><div class=\"sk-toggleable__content\"><pre>RandomizedSearchCV(cv=10,\n",
       "                   estimator=Pipeline(steps=[(&#x27;columntransformer&#x27;,\n",
       "                                              ColumnTransformer(transformers=[(&#x27;pipeline&#x27;,\n",
       "                                                                               Pipeline(steps=[(&#x27;simpleimputer&#x27;,\n",
       "                                                                                                SimpleImputer(strategy=&#x27;median&#x27;)),\n",
       "                                                                                               (&#x27;standardscaler&#x27;,\n",
       "                                                                                                StandardScaler())]),\n",
       "                                                                               &lt;sklearn.compose._column_transformer.make_column_selector object at 0x76fb659f1f60&gt;)])),\n",
       "                                             (&#x27;randomforestclassifier&#x27;,\n",
       "                                              RandomForestClassi...\n",
       "                   param_distributions={&#x27;randomforestclassifier__max_depth&#x27;: [5,\n",
       "                                                                              10,\n",
       "                                                                              20,\n",
       "                                                                              30,\n",
       "                                                                              None],\n",
       "                                        &#x27;randomforestclassifier__min_samples_leaf&#x27;: [1,\n",
       "                                                                                     2,\n",
       "                                                                                     3,\n",
       "                                                                                     4,\n",
       "                                                                                     5,\n",
       "                                                                                     6,\n",
       "                                                                                     7,\n",
       "                                                                                     8,\n",
       "                                                                                     9,\n",
       "                                                                                     10],\n",
       "                                        &#x27;randomforestclassifier__min_samples_split&#x27;: [2,\n",
       "                                                                                      3,\n",
       "                                                                                      4,\n",
       "                                                                                      5,\n",
       "                                                                                      6,\n",
       "                                                                                      7,\n",
       "                                                                                      8,\n",
       "                                                                                      9,\n",
       "                                                                                      10,\n",
       "                                                                                      11,\n",
       "                                                                                      12,\n",
       "                                                                                      13,\n",
       "                                                                                      14,\n",
       "                                                                                      15,\n",
       "                                                                                      16,\n",
       "                                                                                      17,\n",
       "                                                                                      18,\n",
       "                                                                                      19,\n",
       "                                                                                      20],\n",
       "                                        &#x27;randomforestclassifier__n_estimators&#x27;: [50,\n",
       "                                                                                 100,\n",
       "                                                                                 150,\n",
       "                                                                                 200,\n",
       "                                                                                 300,\n",
       "                                                                                 400]},\n",
       "                   random_state=42, return_train_score=True,\n",
       "                   scoring=&#x27;f1_macro&#x27;)</pre></div></div></div><div class=\"sk-parallel\"><div class=\"sk-parallel-item\"><div class=\"sk-item\"><div class=\"sk-label-container\"><div class=\"sk-label sk-toggleable\"><input class=\"sk-toggleable__control sk-hidden--visually\" id=\"sk-estimator-id-2\" type=\"checkbox\" ><label for=\"sk-estimator-id-2\" class=\"sk-toggleable__label sk-toggleable__label-arrow\">estimator: Pipeline</label><div class=\"sk-toggleable__content\"><pre>Pipeline(steps=[(&#x27;columntransformer&#x27;,\n",
       "                 ColumnTransformer(transformers=[(&#x27;pipeline&#x27;,\n",
       "                                                  Pipeline(steps=[(&#x27;simpleimputer&#x27;,\n",
       "                                                                   SimpleImputer(strategy=&#x27;median&#x27;)),\n",
       "                                                                  (&#x27;standardscaler&#x27;,\n",
       "                                                                   StandardScaler())]),\n",
       "                                                  &lt;sklearn.compose._column_transformer.make_column_selector object at 0x76fb659f1f60&gt;)])),\n",
       "                (&#x27;randomforestclassifier&#x27;,\n",
       "                 RandomForestClassifier(class_weight=&#x27;balanced&#x27;,\n",
       "                                        random_state=42))])</pre></div></div></div><div class=\"sk-serial\"><div class=\"sk-item\"><div class=\"sk-serial\"><div class=\"sk-item sk-dashed-wrapped\"><div class=\"sk-label-container\"><div class=\"sk-label sk-toggleable\"><input class=\"sk-toggleable__control sk-hidden--visually\" id=\"sk-estimator-id-3\" type=\"checkbox\" ><label for=\"sk-estimator-id-3\" class=\"sk-toggleable__label sk-toggleable__label-arrow\">columntransformer: ColumnTransformer</label><div class=\"sk-toggleable__content\"><pre>ColumnTransformer(transformers=[(&#x27;pipeline&#x27;,\n",
       "                                 Pipeline(steps=[(&#x27;simpleimputer&#x27;,\n",
       "                                                  SimpleImputer(strategy=&#x27;median&#x27;)),\n",
       "                                                 (&#x27;standardscaler&#x27;,\n",
       "                                                  StandardScaler())]),\n",
       "                                 &lt;sklearn.compose._column_transformer.make_column_selector object at 0x76fb659f1f60&gt;)])</pre></div></div></div><div class=\"sk-parallel\"><div class=\"sk-parallel-item\"><div class=\"sk-item\"><div class=\"sk-label-container\"><div class=\"sk-label sk-toggleable\"><input class=\"sk-toggleable__control sk-hidden--visually\" id=\"sk-estimator-id-4\" type=\"checkbox\" ><label for=\"sk-estimator-id-4\" class=\"sk-toggleable__label sk-toggleable__label-arrow\">pipeline</label><div class=\"sk-toggleable__content\"><pre>&lt;sklearn.compose._column_transformer.make_column_selector object at 0x76fb659f1f60&gt;</pre></div></div></div><div class=\"sk-serial\"><div class=\"sk-item\"><div class=\"sk-serial\"><div class=\"sk-item\"><div class=\"sk-estimator sk-toggleable\"><input class=\"sk-toggleable__control sk-hidden--visually\" id=\"sk-estimator-id-5\" type=\"checkbox\" ><label for=\"sk-estimator-id-5\" class=\"sk-toggleable__label sk-toggleable__label-arrow\">SimpleImputer</label><div class=\"sk-toggleable__content\"><pre>SimpleImputer(strategy=&#x27;median&#x27;)</pre></div></div></div><div class=\"sk-item\"><div class=\"sk-estimator sk-toggleable\"><input class=\"sk-toggleable__control sk-hidden--visually\" id=\"sk-estimator-id-6\" type=\"checkbox\" ><label for=\"sk-estimator-id-6\" class=\"sk-toggleable__label sk-toggleable__label-arrow\">StandardScaler</label><div class=\"sk-toggleable__content\"><pre>StandardScaler()</pre></div></div></div></div></div></div></div></div></div></div><div class=\"sk-item\"><div class=\"sk-estimator sk-toggleable\"><input class=\"sk-toggleable__control sk-hidden--visually\" id=\"sk-estimator-id-7\" type=\"checkbox\" ><label for=\"sk-estimator-id-7\" class=\"sk-toggleable__label sk-toggleable__label-arrow\">RandomForestClassifier</label><div class=\"sk-toggleable__content\"><pre>RandomForestClassifier(class_weight=&#x27;balanced&#x27;, random_state=42)</pre></div></div></div></div></div></div></div></div></div></div></div></div>"
      ],
      "text/plain": [
       "RandomizedSearchCV(cv=10,\n",
       "                   estimator=Pipeline(steps=[('columntransformer',\n",
       "                                              ColumnTransformer(transformers=[('pipeline',\n",
       "                                                                               Pipeline(steps=[('simpleimputer',\n",
       "                                                                                                SimpleImputer(strategy='median')),\n",
       "                                                                                               ('standardscaler',\n",
       "                                                                                                StandardScaler())]),\n",
       "                                                                               <sklearn.compose._column_transformer.make_column_selector object at 0x76fb659f1f60>)])),\n",
       "                                             ('randomforestclassifier',\n",
       "                                              RandomForestClassi...\n",
       "                   param_distributions={'randomforestclassifier__max_depth': [5,\n",
       "                                                                              10,\n",
       "                                                                              20,\n",
       "                                                                              30,\n",
       "                                                                              None],\n",
       "                                        'randomforestclassifier__min_samples_leaf': [1,\n",
       "                                                                                     2,\n",
       "                                                                                     3,\n",
       "                                                                                     4,\n",
       "                                                                                     5,\n",
       "                                                                                     6,\n",
       "                                                                                     7,\n",
       "                                                                                     8,\n",
       "                                                                                     9,\n",
       "                                                                                     10],\n",
       "                                        'randomforestclassifier__min_samples_split': [2,\n",
       "                                                                                      3,\n",
       "                                                                                      4,\n",
       "                                                                                      5,\n",
       "                                                                                      6,\n",
       "                                                                                      7,\n",
       "                                                                                      8,\n",
       "                                                                                      9,\n",
       "                                                                                      10,\n",
       "                                                                                      11,\n",
       "                                                                                      12,\n",
       "                                                                                      13,\n",
       "                                                                                      14,\n",
       "                                                                                      15,\n",
       "                                                                                      16,\n",
       "                                                                                      17,\n",
       "                                                                                      18,\n",
       "                                                                                      19,\n",
       "                                                                                      20],\n",
       "                                        'randomforestclassifier__n_estimators': [50,\n",
       "                                                                                 100,\n",
       "                                                                                 150,\n",
       "                                                                                 200,\n",
       "                                                                                 300,\n",
       "                                                                                 400]},\n",
       "                   random_state=42, return_train_score=True,\n",
       "                   scoring='f1_macro')"
      ]
     },
     "execution_count": 16,
     "metadata": {},
     "output_type": "execute_result"
    }
   ],
   "source": [
    "# Create pipeline with preprocessing and a RandomForestClassifier with 10 cross validation folds. Also\n",
    "# set class_weights to balanced to handle class imbalance\n",
    "forest_classifier = make_pipeline(preprocessing, RandomForestClassifier(random_state=42, class_weight='balanced'))\n",
    "\n",
    "# Define the hyperparameter grid to search\n",
    "param_grid = {\n",
    "    'randomforestclassifier__n_estimators': [50, 100, 150, 200, 300, 400], # Number of decision trees\n",
    "    'randomforestclassifier__max_depth': [5, 10, 20, 30, None], \n",
    "    'randomforestclassifier__min_samples_split': list(range(2, 21)),  # Min samples to split a node\n",
    "    'randomforestclassifier__min_samples_leaf': list(range(1, 11)),  # Min samples at a leaf node\n",
    "}\n",
    "\n",
    "# Set up the randomized search with cross-validation and f1_macro score because of class imbalance\n",
    "random_search = RandomizedSearchCV(forest_classifier, \n",
    "                                   param_distributions=param_grid,\n",
    "                                   scoring='f1_macro',\n",
    "                                   n_iter=100, \n",
    "                                   cv=10, \n",
    "                                   random_state=42,\n",
    "                                   n_jobs=-1,\n",
    "                                   return_train_score=True,\n",
    "                                   verbose=0)\n",
    "\n",
    "# Fit on the training data\n",
    "random_search.fit(train_data, train_labels)"
   ]
  },
  {
   "cell_type": "code",
   "execution_count": 17,
   "id": "ff60dca4",
   "metadata": {},
   "outputs": [],
   "source": [
    "#Evaluate the model on the test set\n",
    "final_predictions = random_search.best_estimator_.predict(test_data)"
   ]
  },
  {
   "cell_type": "code",
   "execution_count": 24,
   "id": "57ca0bc4",
   "metadata": {},
   "outputs": [
    {
     "name": "stdout",
     "output_type": "stream",
     "text": [
      "F1-macro score: 0.719181319720174\n"
     ]
    }
   ],
   "source": [
    "# Get the F1 macro score\n",
    "print(\"F1-macro score:\", f1_score(test_labels, final_predictions, average='macro'))"
   ]
  },
  {
   "cell_type": "code",
   "execution_count": 22,
   "id": "b656202a",
   "metadata": {},
   "outputs": [
    {
     "name": "stdout",
     "output_type": "stream",
     "text": [
      "              precision    recall  f1-score   support\n",
      "\n",
      "   Lawn Work       0.65      0.55      0.60       139\n",
      "       Sport       0.82      0.87      0.84       318\n",
      "\n",
      "    accuracy                           0.77       457\n",
      "   macro avg       0.73      0.71      0.72       457\n",
      "weighted avg       0.77      0.77      0.77       457\n",
      "\n"
     ]
    }
   ],
   "source": [
    "print(classification_report(test_labels, final_predictions, target_names=[\"Lawn Work\", \"Sport\"]))"
   ]
  },
  {
   "cell_type": "code",
   "execution_count": 23,
   "id": "03ba67e3",
   "metadata": {},
   "outputs": [
    {
     "data": {
      "image/png": "[encoded data removed]",
      "text/plain": [
       "<Figure size 640x480 with 2 Axes>"
      ]
     },
     "metadata": {},
     "output_type": "display_data"
    }
   ],
   "source": [
    "cm = confusion_matrix(test_labels, final_predictions)\n",
    "disp = ConfusionMatrixDisplay(confusion_matrix=cm)\n",
    "disp.plot()\n",
    "plt.show()"
   ]
  },
  {
   "cell_type": "code",
   "execution_count": null,
   "id": "17fec1e1-b66c-459a-9845-302983113b6b",
   "metadata": {},
   "outputs": [],
   "source": []
  }
 ],
 "metadata": {
  "kernelspec": {
   "display_name": "Python 3 (ipykernel)",
   "language": "python",
   "name": "python3"
  },
  "language_info": {
   "codemirror_mode": {
    "name": "ipython",
    "version": 3
   },
   "file_extension": ".py",
   "mimetype": "text/x-python",
   "name": "python",
   "nbconvert_exporter": "python",
   "pygments_lexer": "ipython3",
   "version": "3.10.12"
  }
 },
 "nbformat": 4,
 "nbformat_minor": 5
}
