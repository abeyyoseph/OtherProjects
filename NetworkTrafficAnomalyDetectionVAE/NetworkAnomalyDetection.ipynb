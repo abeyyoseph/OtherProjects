{
 "cells": [
  {
   "cell_type": "code",
   "execution_count": 35,
   "id": "51ce3eb1-adee-46b0-a1cc-8be3c06f8c8a",
   "metadata": {},
   "outputs": [],
   "source": [
    "import pandas as pd\n",
    "from sklearn.model_selection import train_test_split\n",
    "from sklearn.preprocessing import StandardScaler, OneHotEncoder\n",
    "import numpy as np\n",
    "import torch\n",
    "import torch.nn as nn\n",
    "import torch.nn.functional as F\n",
    "from torch.utils.data import DataLoader, TensorDataset\n",
    "import torch.optim as optim\n",
    "import matplotlib.pyplot as plt\n",
    "from sklearn.metrics import roc_auc_score, precision_recall_fscore_support, precision_recall_curve"
   ]
  },
  {
   "cell_type": "code",
   "execution_count": 2,
   "id": "38cced94-4fb6-4bde-b3d3-fabd1f66f90e",
   "metadata": {},
   "outputs": [],
   "source": [
    "# Define column names based on the dataset documentation\n",
    "column_names = [\n",
    "    \"duration\", \"protocol_type\", \"service\", \"flag\", \"src_bytes\", \"dst_bytes\",\n",
    "    \"land\", \"wrong_fragment\", \"urgent\", \"hot\", \"num_failed_logins\", \"logged_in\",\n",
    "    \"num_compromised\", \"root_shell\", \"su_attempted\", \"num_root\", \"num_file_creations\",\n",
    "    \"num_shells\", \"num_access_files\", \"num_outbound_cmds\", \"is_host_login\", \"is_guest_login\",\n",
    "    \"count\", \"srv_count\", \"serror_rate\", \"srv_serror_rate\", \"rerror_rate\", \"srv_rerror_rate\",\n",
    "    \"same_srv_rate\", \"diff_srv_rate\", \"srv_diff_host_rate\", \"dst_host_count\",\n",
    "    \"dst_host_srv_count\", \"dst_host_same_srv_rate\", \"dst_host_diff_srv_rate\",\n",
    "    \"dst_host_same_src_port_rate\", \"dst_host_srv_diff_host_rate\", \"dst_host_serror_rate\",\n",
    "    \"dst_host_srv_serror_rate\", \"dst_host_rerror_rate\", \"dst_host_srv_rerror_rate\", \"label\"\n",
    "]\n",
    "\n",
    "network_data = pd.read_csv(\"kddcup.data.corrected\", names=column_names, header=None)"
   ]
  },
  {
   "cell_type": "code",
   "execution_count": 3,
   "id": "2c84e58b-3457-4e3e-9824-a568dfbce112",
   "metadata": {},
   "outputs": [
    {
     "name": "stdout",
     "output_type": "stream",
     "text": [
      "<class 'pandas.core.frame.DataFrame'>\n",
      "RangeIndex: 4898431 entries, 0 to 4898430\n",
      "Data columns (total 42 columns):\n",
      " #   Column                       Dtype  \n",
      "---  ------                       -----  \n",
      " 0   duration                     int64  \n",
      " 1   protocol_type                object \n",
      " 2   service                      object \n",
      " 3   flag                         object \n",
      " 4   src_bytes                    int64  \n",
      " 5   dst_bytes                    int64  \n",
      " 6   land                         int64  \n",
      " 7   wrong_fragment               int64  \n",
      " 8   urgent                       int64  \n",
      " 9   hot                          int64  \n",
      " 10  num_failed_logins            int64  \n",
      " 11  logged_in                    int64  \n",
      " 12  num_compromised              int64  \n",
      " 13  root_shell                   int64  \n",
      " 14  su_attempted                 int64  \n",
      " 15  num_root                     int64  \n",
      " 16  num_file_creations           int64  \n",
      " 17  num_shells                   int64  \n",
      " 18  num_access_files             int64  \n",
      " 19  num_outbound_cmds            int64  \n",
      " 20  is_host_login                int64  \n",
      " 21  is_guest_login               int64  \n",
      " 22  count                        int64  \n",
      " 23  srv_count                    int64  \n",
      " 24  serror_rate                  float64\n",
      " 25  srv_serror_rate              float64\n",
      " 26  rerror_rate                  float64\n",
      " 27  srv_rerror_rate              float64\n",
      " 28  same_srv_rate                float64\n",
      " 29  diff_srv_rate                float64\n",
      " 30  srv_diff_host_rate           float64\n",
      " 31  dst_host_count               int64  \n",
      " 32  dst_host_srv_count           int64  \n",
      " 33  dst_host_same_srv_rate       float64\n",
      " 34  dst_host_diff_srv_rate       float64\n",
      " 35  dst_host_same_src_port_rate  float64\n",
      " 36  dst_host_srv_diff_host_rate  float64\n",
      " 37  dst_host_serror_rate         float64\n",
      " 38  dst_host_srv_serror_rate     float64\n",
      " 39  dst_host_rerror_rate         float64\n",
      " 40  dst_host_srv_rerror_rate     float64\n",
      " 41  label                        object \n",
      "dtypes: float64(15), int64(23), object(4)\n",
      "memory usage: 1.5+ GB\n",
      "None\n"
     ]
    }
   ],
   "source": [
    "print(network_data.info())"
   ]
  },
  {
   "cell_type": "code",
   "execution_count": 4,
   "id": "b407d6bb-dcfc-4357-98ba-ff02b159f0f9",
   "metadata": {},
   "outputs": [
    {
     "name": "stdout",
     "output_type": "stream",
     "text": [
      "Series([], dtype: int64)\n"
     ]
    }
   ],
   "source": [
    "# Count missing values in each column\n",
    "missing_values = network_data.isnull().sum()\n",
    "\n",
    "print(missing_values[missing_values > 0])"
   ]
  },
  {
   "cell_type": "code",
   "execution_count": 5,
   "id": "ef5a8205-ad48-4a29-8c18-293481309031",
   "metadata": {},
   "outputs": [
    {
     "data": {
      "text/plain": [
       "label\n",
       "smurf.              2807886\n",
       "neptune.            1072017\n",
       "normal.              972781\n",
       "satan.                15892\n",
       "ipsweep.              12481\n",
       "portsweep.            10413\n",
       "nmap.                  2316\n",
       "back.                  2203\n",
       "warezclient.           1020\n",
       "teardrop.               979\n",
       "pod.                    264\n",
       "guess_passwd.            53\n",
       "buffer_overflow.         30\n",
       "land.                    21\n",
       "warezmaster.             20\n",
       "imap.                    12\n",
       "rootkit.                 10\n",
       "loadmodule.               9\n",
       "ftp_write.                8\n",
       "multihop.                 7\n",
       "phf.                      4\n",
       "perl.                     3\n",
       "spy.                      2\n",
       "Name: count, dtype: int64"
      ]
     },
     "execution_count": 5,
     "metadata": {},
     "output_type": "execute_result"
    }
   ],
   "source": [
    "# Get the distribution of label data that shows there are many more anomalies than \"normal\" data\n",
    "network_data[\"label\"].value_counts()"
   ]
  },
  {
   "cell_type": "code",
   "execution_count": 6,
   "id": "176c2c00-352f-4729-9f99-b01c457ea216",
   "metadata": {},
   "outputs": [
    {
     "data": {
      "text/plain": [
       "service\n",
       "ecr_i        2811660\n",
       "private      1100831\n",
       "http          623091\n",
       "smtp           96554\n",
       "other          72653\n",
       "              ...   \n",
       "tftp_u             3\n",
       "harvest            2\n",
       "aol                2\n",
       "http_8001          2\n",
       "http_2784          1\n",
       "Name: count, Length: 70, dtype: int64"
      ]
     },
     "execution_count": 6,
     "metadata": {},
     "output_type": "execute_result"
    }
   ],
   "source": [
    "# Get the distribution of service data\n",
    "network_data[\"service\"].value_counts()"
   ]
  },
  {
   "cell_type": "code",
   "execution_count": 7,
   "id": "89fce6d4-09e3-4db0-921f-a987b20afd0a",
   "metadata": {},
   "outputs": [
    {
     "data": {
      "image/png": "[encoded data removed]",
      "text/plain": [
       "<Figure size 600x600 with 1 Axes>"
      ]
     },
     "metadata": {},
     "output_type": "display_data"
    }
   ],
   "source": [
    "# Focus only on the http service data for anomaly detection for now\n",
    "network_data_http = network_data[network_data[\"service\"] == \"http\"]\n",
    "network_data_http[\"label\"].value_counts().plot(kind='bar', figsize=(6,6))\n",
    "plt.show()"
   ]
  },
  {
   "cell_type": "code",
   "execution_count": 8,
   "id": "cdbad3b8-d892-46aa-a5a1-a38bad0debd3",
   "metadata": {},
   "outputs": [],
   "source": [
    "# Get the data labeled normal for training the VAE\n",
    "normal_http_data = network_data_http[network_data_http[\"label\"] == \"normal.\"].drop(columns=\"label\")\n",
    "\n",
    "# One hot encode the categorical features\n",
    "categorical_cols = [\"protocol_type\", \"service\", \"flag\"]\n",
    "encoder = OneHotEncoder(sparse=False, handle_unknown=\"ignore\")\n",
    "encoded_categories = encoder.fit_transform(normal_http_data[categorical_cols])"
   ]
  },
  {
   "cell_type": "code",
   "execution_count": 9,
   "id": "a18667e8-50b8-4661-abdf-d56ea70ed8af",
   "metadata": {},
   "outputs": [],
   "source": [
    "# Standardize numerical features\n",
    "numerical_cols = normal_http_data.drop(columns=categorical_cols).columns\n",
    "scaler = StandardScaler()\n",
    "scaled_numerical_data = scaler.fit_transform(normal_http_data[numerical_cols])"
   ]
  },
  {
   "cell_type": "code",
   "execution_count": 10,
   "id": "0ca46554-2885-4a99-a4fd-878dab4e428c",
   "metadata": {},
   "outputs": [
    {
     "name": "stdout",
     "output_type": "stream",
     "text": [
      "(619046, 49)\n"
     ]
    }
   ],
   "source": [
    "# Combine the encoded and standardized data\n",
    "combined_data = np.hstack([scaled_numerical_data, encoded_categories])\n",
    "\n",
    "print(combined_data.shape)"
   ]
  },
  {
   "cell_type": "code",
   "execution_count": 11,
   "id": "d9722241-4bf2-470e-993c-a9e847abdfc5",
   "metadata": {},
   "outputs": [],
   "source": [
    "# Create the train/validation/test data (80/10/10)\n",
    "train_data, temp_data = train_test_split(combined_data, test_size=0.2, random_state=42)\n",
    "val_data, _ = train_test_split(temp_data, test_size=0.5, random_state=42)"
   ]
  },
  {
   "cell_type": "code",
   "execution_count": 12,
   "id": "d7e8f250-b1b2-4830-8c8f-e41fdf5dc393",
   "metadata": {},
   "outputs": [],
   "source": [
    "# VAE class\n",
    "class VAE(nn.Module):\n",
    "    def __init__(self, input_dim, latent_dim=8, dropout_prob=0.2):\n",
    "        super(VAE, self).__init__()\n",
    "        # There should be 49 cols of input data, so input_dim = 49\n",
    "        self.input_dim = input_dim\n",
    "        self.latent_dim = latent_dim\n",
    "\n",
    "        # Encoder\n",
    "        self.encoder = nn.Sequential(\n",
    "            nn.Linear(input_dim, 32),\n",
    "            nn.BatchNorm1d(32),\n",
    "            nn.ReLU(),\n",
    "            nn.Dropout(dropout_prob),\n",
    "            nn.Linear(32, 16),\n",
    "            nn.BatchNorm1d(16),\n",
    "            nn.ReLU(),\n",
    "            nn.Dropout(dropout_prob)\n",
    "        )\n",
    "\n",
    "        # Latent space\n",
    "        self.mu_layer = nn.Linear(16, latent_dim)  \n",
    "        self.logvar_layer = nn.Linear(16, latent_dim)\n",
    "\n",
    "        # Decoder\n",
    "        self.decoder = nn.Sequential(\n",
    "            nn.Linear(latent_dim, 16),\n",
    "            nn.BatchNorm1d(16),\n",
    "            nn.ReLU(),\n",
    "            nn.Dropout(dropout_prob),\n",
    "            nn.Linear(16, 32),\n",
    "            nn.BatchNorm1d(32),\n",
    "            nn.ReLU(),\n",
    "            nn.Dropout(dropout_prob),\n",
    "            nn.Linear(32, input_dim),\n",
    "            nn.Sigmoid()  # Assumes inputs normalized between 0 and 1\n",
    "        )\n",
    "        \n",
    "    # Keep the latent space stochastic, preventing the VAE from collapsing into a deterministic autoencoder\n",
    "    def reparameterize(self, mu, logvar):\n",
    "        # Convert log variance to standard deviation\n",
    "        std = torch.exp(0.5 * logvar)\n",
    "        # Random sample from standard normal\n",
    "        eps = torch.randn_like(std)\n",
    "\n",
    "        # Shift and scale eps to match the desired distribution\n",
    "        return mu + eps * std\n",
    "\n",
    "    def forward(self, x):\n",
    "        # Encode the input data\n",
    "        hidden = self.encoder(x)\n",
    "        mu, logvar = self.mu_layer(hidden), self.logvar_layer(hidden)\n",
    "        \n",
    "        # Sample latent vector\n",
    "        z = self.reparameterize(mu, logvar)\n",
    "\n",
    "        # Decode the latent representation\n",
    "        reconstructed = self.decoder(z)\n",
    "        return reconstructed, mu, logvar\n",
    "\n",
    "    def loss_function(self, x, reconstructed_x, mu, logvar):\n",
    "        # Calculate the reconstruction loss (MSE)\n",
    "        reconstruction_loss = F.mse_loss(reconstructed_x, x, reduction='sum')\n",
    "\n",
    "        # KL divergence loss\n",
    "        kl_loss = -0.5 * torch.sum(1 + logvar - mu.pow(2) - logvar.exp())\n",
    "\n",
    "        return reconstruction_loss + kl_loss"
   ]
  },
  {
   "cell_type": "code",
   "execution_count": 13,
   "id": "525d32f7-60e3-4f9e-b83a-078f9c80694c",
   "metadata": {},
   "outputs": [],
   "source": [
    "# Convert numpy arrays to pytorch tensors\n",
    "train_tensor = torch.tensor(train_data, dtype=torch.float32)\n",
    "val_tensor = torch.tensor(val_data, dtype=torch.float32)"
   ]
  },
  {
   "cell_type": "code",
   "execution_count": 22,
   "id": "85f0645f-ee90-4153-b5fc-002355aa6c20",
   "metadata": {},
   "outputs": [],
   "source": [
    "# Define hyperparameters\n",
    "batch_size = 16\n",
    "device = torch.device(\"cuda\" if torch.cuda.is_available() else \"cpu\")\n",
    "learning_rate = 0.0001\n",
    "decay = 0.001\n",
    "num_epochs = 50\n",
    "\n",
    "input_dimensions = train_data.shape[1]\n",
    "latent_dimensions = 8\n",
    "vae = VAE(input_dimensions, latent_dimensions).to(device)\n",
    "\n",
    "optimizer = optim.AdamW(vae.parameters(), lr=learning_rate, weight_decay=decay)\n",
    "# Reduce LR in half if val loss doesn't decrease for 4 epochs\n",
    "scheduler = torch.optim.lr_scheduler.ReduceLROnPlateau(optimizer, 'min', patience=4, factor=0.5)\n",
    "\n",
    "best_model_path = \"best_vae_model.pth\"\n",
    "best_val_loss = float(\"inf\")\n",
    "criterion = vae.loss_function"
   ]
  },
  {
   "cell_type": "code",
   "execution_count": 15,
   "id": "4cdc54a1-fdb0-4fc6-a5d2-da78d78654f9",
   "metadata": {},
   "outputs": [],
   "source": [
    "# Create DataLoaders\n",
    "train_loader = DataLoader(TensorDataset(train_tensor), batch_size=batch_size, shuffle=True)\n",
    "val_loader = DataLoader(TensorDataset(val_tensor), batch_size=batch_size)"
   ]
  },
  {
   "cell_type": "code",
   "execution_count": 45,
   "id": "e33ce558-87e4-4518-b976-1b5e709d8ec6",
   "metadata": {
    "scrolled": true
   },
   "outputs": [
    {
     "name": "stdout",
     "output_type": "stream",
     "text": [
      "Epoch 1: Learning Rate: 0.0001\n",
      "Epoch [1/50] - Train Loss: 463.3542 | Val Loss: 452.6984\n",
      "New best model saved.\n",
      "Epoch 2: Learning Rate: 0.0001\n",
      "Epoch [2/50] - Train Loss: 448.6633 | Val Loss: 446.4389\n",
      "New best model saved.\n",
      "Epoch 3: Learning Rate: 0.0001\n",
      "Epoch [3/50] - Train Loss: 445.3060 | Val Loss: 442.7443\n",
      "New best model saved.\n",
      "Epoch 4: Learning Rate: 0.0001\n",
      "Epoch [4/50] - Train Loss: 443.4058 | Val Loss: 442.1287\n",
      "New best model saved.\n",
      "Epoch 5: Learning Rate: 0.0001\n",
      "Epoch [5/50] - Train Loss: 442.3260 | Val Loss: 442.7443\n",
      "Epoch 6: Learning Rate: 0.0001\n",
      "Epoch [6/50] - Train Loss: 441.5350 | Val Loss: 441.2056\n",
      "New best model saved.\n",
      "Epoch 7: Learning Rate: 0.0001\n",
      "Epoch [7/50] - Train Loss: 441.1585 | Val Loss: 440.9149\n",
      "New best model saved.\n",
      "Epoch 8: Learning Rate: 0.0001\n",
      "Epoch [8/50] - Train Loss: 440.7988 | Val Loss: 442.4288\n",
      "Epoch 9: Learning Rate: 0.0001\n",
      "Epoch [9/50] - Train Loss: 440.4531 | Val Loss: 441.0420\n",
      "Epoch 10: Learning Rate: 0.0001\n",
      "Epoch [10/50] - Train Loss: 440.1862 | Val Loss: 440.1109\n",
      "New best model saved.\n",
      "Epoch 11: Learning Rate: 0.0001\n",
      "Epoch [11/50] - Train Loss: 440.0422 | Val Loss: 440.4801\n",
      "Epoch 12: Learning Rate: 0.0001\n",
      "Epoch [12/50] - Train Loss: 439.9634 | Val Loss: 439.8676\n",
      "New best model saved.\n",
      "Epoch 13: Learning Rate: 0.0001\n",
      "Epoch [13/50] - Train Loss: 439.8414 | Val Loss: 439.6277\n",
      "New best model saved.\n",
      "Epoch 14: Learning Rate: 0.0001\n",
      "Epoch [14/50] - Train Loss: 439.7831 | Val Loss: 439.9168\n",
      "Epoch 15: Learning Rate: 0.0001\n",
      "Epoch [15/50] - Train Loss: 439.5840 | Val Loss: 439.1254\n",
      "New best model saved.\n",
      "Epoch 16: Learning Rate: 0.0001\n",
      "Epoch [16/50] - Train Loss: 439.6472 | Val Loss: 439.3388\n",
      "Epoch 17: Learning Rate: 0.0001\n",
      "Epoch [17/50] - Train Loss: 439.4750 | Val Loss: 439.5656\n",
      "Epoch 18: Learning Rate: 0.0001\n",
      "Epoch [18/50] - Train Loss: 439.5293 | Val Loss: 439.2967\n",
      "Epoch 19: Learning Rate: 0.0001\n",
      "Epoch [19/50] - Train Loss: 439.4476 | Val Loss: 438.8926\n",
      "New best model saved.\n",
      "Epoch 20: Learning Rate: 0.0001\n",
      "Epoch [20/50] - Train Loss: 439.4689 | Val Loss: 440.4083\n",
      "Epoch 21: Learning Rate: 0.0001\n",
      "Epoch [21/50] - Train Loss: 439.3384 | Val Loss: 438.8802\n",
      "New best model saved.\n",
      "Epoch 22: Learning Rate: 0.0001\n",
      "Epoch [22/50] - Train Loss: 439.3024 | Val Loss: 438.9518\n",
      "Epoch 23: Learning Rate: 0.0001\n",
      "Epoch [23/50] - Train Loss: 439.2759 | Val Loss: 440.3447\n",
      "Epoch 24: Learning Rate: 0.0001\n",
      "Epoch [24/50] - Train Loss: 439.2469 | Val Loss: 439.0193\n",
      "Epoch 25: Learning Rate: 5e-05\n",
      "Epoch [25/50] - Train Loss: 438.9796 | Val Loss: 438.2713\n",
      "New best model saved.\n",
      "Epoch 26: Learning Rate: 5e-05\n",
      "Epoch [26/50] - Train Loss: 439.0413 | Val Loss: 438.2770\n",
      "Epoch 27: Learning Rate: 5e-05\n",
      "Epoch [27/50] - Train Loss: 439.0297 | Val Loss: 438.4251\n",
      "Epoch 28: Learning Rate: 5e-05\n",
      "Epoch [28/50] - Train Loss: 439.0802 | Val Loss: 438.2928\n",
      "Epoch 29: Learning Rate: 5e-05\n",
      "Epoch [29/50] - Train Loss: 439.0703 | Val Loss: 438.5805\n",
      "Epoch 30: Learning Rate: 5e-05\n",
      "Epoch [30/50] - Train Loss: 438.9302 | Val Loss: 438.9044\n",
      "Epoch 31: Learning Rate: 2.5e-05\n",
      "Epoch [31/50] - Train Loss: 438.9323 | Val Loss: 438.0199\n",
      "New best model saved.\n",
      "Epoch 32: Learning Rate: 2.5e-05\n",
      "Epoch [32/50] - Train Loss: 438.9066 | Val Loss: 439.6634\n",
      "Epoch 33: Learning Rate: 2.5e-05\n",
      "Epoch [33/50] - Train Loss: 439.0172 | Val Loss: 439.8751\n",
      "Epoch 34: Learning Rate: 2.5e-05\n",
      "Epoch [34/50] - Train Loss: 438.8302 | Val Loss: 438.1805\n",
      "Epoch 35: Learning Rate: 2.5e-05\n",
      "Epoch [35/50] - Train Loss: 438.9042 | Val Loss: 438.5436\n",
      "Epoch 36: Learning Rate: 2.5e-05\n",
      "Epoch [36/50] - Train Loss: 438.9358 | Val Loss: 439.2184\n",
      "Epoch 37: Learning Rate: 1.25e-05\n",
      "Epoch [37/50] - Train Loss: 438.9015 | Val Loss: 438.7544\n",
      "Epoch 38: Learning Rate: 1.25e-05\n",
      "Epoch [38/50] - Train Loss: 438.8917 | Val Loss: 438.7125\n",
      "Epoch 39: Learning Rate: 1.25e-05\n",
      "Epoch [39/50] - Train Loss: 438.8554 | Val Loss: 437.8930\n",
      "New best model saved.\n",
      "Epoch 40: Learning Rate: 1.25e-05\n",
      "Epoch [40/50] - Train Loss: 438.9127 | Val Loss: 438.2949\n",
      "Epoch 41: Learning Rate: 1.25e-05\n",
      "Epoch [41/50] - Train Loss: 438.8525 | Val Loss: 439.3693\n",
      "Epoch 42: Learning Rate: 1.25e-05\n",
      "Epoch [42/50] - Train Loss: 438.9837 | Val Loss: 437.9891\n",
      "Epoch 43: Learning Rate: 1.25e-05\n",
      "Epoch [43/50] - Train Loss: 438.7663 | Val Loss: 437.9466\n",
      "Epoch 44: Learning Rate: 1.25e-05\n",
      "Epoch [44/50] - Train Loss: 438.8333 | Val Loss: 438.8542\n",
      "Epoch 45: Learning Rate: 6.25e-06\n",
      "Epoch [45/50] - Train Loss: 438.8220 | Val Loss: 437.7662\n",
      "New best model saved.\n",
      "Epoch 46: Learning Rate: 6.25e-06\n",
      "Epoch [46/50] - Train Loss: 438.8439 | Val Loss: 438.0558\n",
      "Epoch 47: Learning Rate: 6.25e-06\n",
      "Epoch [47/50] - Train Loss: 438.8718 | Val Loss: 437.8921\n",
      "Epoch 48: Learning Rate: 6.25e-06\n",
      "Epoch [48/50] - Train Loss: 438.8189 | Val Loss: 438.5385\n",
      "Epoch 49: Learning Rate: 6.25e-06\n",
      "Epoch [49/50] - Train Loss: 438.7725 | Val Loss: 437.9799\n",
      "Epoch 50: Learning Rate: 6.25e-06\n",
      "Epoch [50/50] - Train Loss: 438.8711 | Val Loss: 438.8265\n"
     ]
    }
   ],
   "source": [
    "# Training loop\n",
    "for epoch in range(num_epochs):\n",
    "    print(f\"Epoch {epoch+1}: Learning Rate: {optimizer.param_groups[0]['lr']}\")\n",
    "    vae.train()\n",
    "    train_loss = 0.0\n",
    "\n",
    "    for batch in train_loader:\n",
    "        x = batch[0].to(device)\n",
    "\n",
    "        optimizer.zero_grad()\n",
    "        # Get the decoded latent representation, the mean and log variance\n",
    "        reconstructed_x, mu, logvar = vae(x)\n",
    "\n",
    "        loss = criterion(x, reconstructed_x, mu, logvar)\n",
    "        loss.backward()\n",
    "        optimizer.step()\n",
    "\n",
    "        train_loss += loss.item()\n",
    "\n",
    "    vae.eval()\n",
    "    val_loss = 0.0\n",
    "\n",
    "    with torch.no_grad():\n",
    "        for batch in val_loader:\n",
    "            x = batch[0].to(device)\n",
    "            reconstructed_x, mu, logvar = vae(x)\n",
    "\n",
    "            loss = criterion(x, reconstructed_x, mu, logvar)\n",
    "            val_loss += loss.item()\n",
    "\n",
    "    train_loss /= len(train_loader)\n",
    "    val_loss /= len(val_loader)\n",
    "\n",
    "    scheduler.step(val_loss)\n",
    "\n",
    "    print(f\"Epoch [{epoch+1}/{num_epochs}] - Train Loss: {train_loss:.4f} | Val Loss: {val_loss:.4f}\")\n",
    "\n",
    "    if val_loss < best_val_loss:\n",
    "        best_val_loss = val_loss\n",
    "        print(\"New best model saved.\")\n",
    "        torch.save(vae.state_dict(), best_model_path)"
   ]
  },
  {
   "cell_type": "code",
   "execution_count": 16,
   "id": "a99fdea4-cb7b-4446-8f5e-9103988333f0",
   "metadata": {},
   "outputs": [],
   "source": [
    "# Read in the separate test data file\n",
    "test_data = pd.read_csv(\"corrected\", names=column_names, header=None)\n",
    "\n",
    "# Get the http service data and separate into normal/anomalous\n",
    "test_http_data = test_data[test_data[\"service\"] == \"http\"]\n",
    "\n",
    "# Separate into normal and anomalous\n",
    "normal_test_http = test_http_data[test_http_data[\"label\"] == \"normal.\"].drop(columns=\"label\")\n",
    "anomalous_test_http = test_http_data[test_http_data[\"label\"] != \"normal.\"].drop(columns=\"label\")"
   ]
  },
  {
   "cell_type": "code",
   "execution_count": 17,
   "id": "fffe9b38-b6b0-47ac-bd62-e9798b4501de",
   "metadata": {},
   "outputs": [],
   "source": [
    "# Transform normal test data (without refitting)\n",
    "normal_test_encoded = encoder.transform(normal_test_http[categorical_cols])\n",
    "normal_test_scaled = scaler.transform(normal_test_http[numerical_cols])\n",
    "normal_test_transformed = np.hstack([normal_test_scaled, normal_test_encoded])\n",
    "\n",
    "# Transform anomalous test data (without refitting)\n",
    "anomalous_test_encoded = encoder.transform(anomalous_test_http[categorical_cols])\n",
    "anomalous_test_scaled = scaler.transform(anomalous_test_http[numerical_cols])\n",
    "anomalous_test_transformed = np.hstack([anomalous_test_scaled, anomalous_test_encoded])"
   ]
  },
  {
   "cell_type": "code",
   "execution_count": 18,
   "id": "9d8ee989-1f8b-4b26-b37c-857671d33d5c",
   "metadata": {},
   "outputs": [
    {
     "data": {
      "text/plain": [
       "(39247, 49)"
      ]
     },
     "execution_count": 18,
     "metadata": {},
     "output_type": "execute_result"
    }
   ],
   "source": [
    "normal_test_transformed.shape"
   ]
  },
  {
   "cell_type": "code",
   "execution_count": 19,
   "id": "989055f2-12a7-4a5a-85f2-4c3e57184100",
   "metadata": {},
   "outputs": [],
   "source": [
    "# Run data through the VAE and get the associated reconstruction error\n",
    "def compute_reconstruction_error(vae, data):\n",
    "    data_tensor = torch.tensor(data, dtype=torch.float32)\n",
    "\n",
    "    with torch.no_grad():\n",
    "        reconstructed, _, _ = vae(data_tensor)\n",
    "    \n",
    "    errors = torch.mean((data_tensor - reconstructed) ** 2, dim=1)\n",
    "\n",
    "    return errors.detach().cpu().numpy() # Convert to numpy"
   ]
  },
  {
   "cell_type": "code",
   "execution_count": 25,
   "id": "9f30d11e-c6b1-46a7-a677-f81dd0309e71",
   "metadata": {},
   "outputs": [],
   "source": [
    "# Load the best performing model from training\n",
    "vae.load_state_dict(torch.load(best_model_path, weights_only=True))\n",
    "normal_errors = compute_reconstruction_error(vae, normal_test_transformed)\n",
    "anomalous_errors = compute_reconstruction_error(vae, anomalous_test_transformed)"
   ]
  },
  {
   "cell_type": "code",
   "execution_count": 39,
   "id": "07b097ce-c693-48bc-8ebb-2188519a0fb9",
   "metadata": {},
   "outputs": [],
   "source": [
    "# Create labels (1 for anomalies, 0 for normal)\n",
    "y_true = np.concatenate([np.zeros(len(normal_errors)), np.ones(len(anomalous_errors))])\n",
    "y_scores = np.concatenate([normal_errors, anomalous_errors])  # Reconstruction errors as anomaly scores"
   ]
  },
  {
   "cell_type": "code",
   "execution_count": 42,
   "id": "3b0d5865-358c-46f4-b13b-5351db77c5e5",
   "metadata": {},
   "outputs": [
    {
     "name": "stdout",
     "output_type": "stream",
     "text": [
      "Best Threshold: 69.5599 (Max F1-Score: 0.9598)\n"
     ]
    },
    {
     "data": {
      "image/png": "[encoded data removed]",
      "text/plain": [
       "<Figure size 600x600 with 1 Axes>"
      ]
     },
     "metadata": {},
     "output_type": "display_data"
    }
   ],
   "source": [
    "# Compute Precision-Recall curve\n",
    "precision, recall, thresholds = precision_recall_curve(y_true, y_scores)\n",
    "\n",
    "# Compute F1 score for each threshold\n",
    "f1_scores = 2 * (precision * recall) / (precision + recall + 1e-10) # Avoid div by zero\n",
    "\n",
    "# Find the threshold with the max F1 score\n",
    "best_idx = np.argmax(f1_scores)\n",
    "best_threshold = thresholds[best_idx]\n",
    "\n",
    "print(f\"Best Threshold: {best_threshold:.4f} (Max F1-Score: {f1_scores[best_idx]:.4f})\")\n",
    "\n",
    "# Plot Precision-Recall curve\n",
    "plt.figure(figsize=(6, 6))\n",
    "plt.plot(recall, precision, label=f\"PR Curve\", color=\"blue\")\n",
    "plt.xlabel(\"Recall\")\n",
    "plt.ylabel(\"Precision\")\n",
    "plt.title(\"Precision-Recall Curve\")\n",
    "plt.legend()\n",
    "plt.grid()\n",
    "plt.show()"
   ]
  },
  {
   "cell_type": "code",
   "execution_count": 41,
   "id": "20cc815d-1a1d-46f8-a2ef-497cd2c5818a",
   "metadata": {},
   "outputs": [
    {
     "name": "stdout",
     "output_type": "stream",
     "text": [
      "Precision: 0.9529, Recall: 0.9663, F1-Score: 0.9596\n"
     ]
    }
   ],
   "source": [
    "# Use the highest performing threshold from the PR curve\n",
    "y_pred = y_scores > best_threshold  # Predict anomalies\n",
    "\n",
    "# Compute precision, recall, and F1-score\n",
    "precision, recall, f1, _ = precision_recall_fscore_support(y_true, y_pred, average=\"binary\")\n",
    "\n",
    "print(f\"Precision: {precision:.4f}, Recall: {recall:.4f}, F1-Score: {f1:.4f}\")"
   ]
  },
  {
   "cell_type": "code",
   "execution_count": null,
   "id": "20ad233d-9384-490b-9998-30c9f17392d1",
   "metadata": {},
   "outputs": [],
   "source": []
  }
 ],
 "metadata": {
  "kernelspec": {
   "display_name": "Python 3 (ipykernel)",
   "language": "python",
   "name": "python3"
  },
  "language_info": {
   "codemirror_mode": {
    "name": "ipython",
    "version": 3
   },
   "file_extension": ".py",
   "mimetype": "text/x-python",
   "name": "python",
   "nbconvert_exporter": "python",
   "pygments_lexer": "ipython3",
   "version": "3.10.12"
  }
 },
 "nbformat": 4,
 "nbformat_minor": 5
}
