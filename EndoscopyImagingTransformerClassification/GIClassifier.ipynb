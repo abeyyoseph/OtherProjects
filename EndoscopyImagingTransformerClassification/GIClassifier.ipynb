{
 "cells": [
  {
   "cell_type": "code",
   "execution_count": 84,
   "id": "ec1d4e37-5ab2-45bf-891f-3fd0fcb4f76b",
   "metadata": {},
   "outputs": [],
   "source": [
    "import os\n",
    "import numpy as np\n",
    "from torchvision import transforms\n",
    "from torchvision.datasets import ImageFolder\n",
    "from torch.utils.data import DataLoader, Subset\n",
    "from sklearn.model_selection import train_test_split\n",
    "from torch.utils.data import WeightedRandomSampler\n",
    "import torch\n",
    "import torch.nn as nn\n",
    "import timm\n",
    "import torch.optim as optim\n",
    "import torch.optim.lr_scheduler as lr_scheduler"
   ]
  },
  {
   "cell_type": "code",
   "execution_count": 2,
   "id": "c105511d-fbba-4e94-95c6-31bd5f83b7a7",
   "metadata": {},
   "outputs": [],
   "source": [
    "data_dir = \"HyperKvasirDataset\""
   ]
  },
  {
   "cell_type": "code",
   "execution_count": 61,
   "id": "f93c5bb6-e373-4092-8f8d-0bd7747c7c24",
   "metadata": {},
   "outputs": [],
   "source": [
    "all_data = ImageFolder(root=data_dir)"
   ]
  },
  {
   "cell_type": "code",
   "execution_count": 63,
   "id": "d0d90175-1c9c-4cc1-a1aa-8f686ff806b4",
   "metadata": {},
   "outputs": [],
   "source": [
    "# Stratified split of dataset due to large class imbalance\n",
    "labels = np.array([all_data.targets[i] for i in range(len(all_data))])\n",
    "\n",
    "# 70% train, 20% val, 10% test\n",
    "train_idx, temp_idx, train_labels, temp_labels = train_test_split(\n",
    "    np.arange(len(all_data)), labels, test_size=0.3, stratify=labels, random_state=42\n",
    ")\n",
    "\n",
    "val_idx, test_idx, val_labels, test_labels = train_test_split(\n",
    "    temp_idx, temp_labels, test_size=0.33, stratify=temp_labels, random_state=42\n",
    ")"
   ]
  },
  {
   "cell_type": "code",
   "execution_count": 78,
   "id": "5a6c3732-426f-471f-ad5a-9bb3a5f15f28",
   "metadata": {},
   "outputs": [],
   "source": [
    "# Create the data transforms\n",
    "train_transform = transforms.Compose([\n",
    "    transforms.Resize((224, 224)),\n",
    "    transforms.RandomHorizontalFlip(),\n",
    "    transforms.RandomRotation(degrees=5),\n",
    "    transforms.ColorJitter(brightness=0.2, contrast=0.2, saturation=0.2, hue=0.02),\n",
    "    transforms.GaussianBlur(kernel_size=3, sigma=(0.1, 1.0)),\n",
    "    transforms.ToTensor(),\n",
    "    transforms.Normalize(mean=[0.485, 0.456, 0.406], std=[0.229, 0.224, 0.225]) \n",
    "])\n",
    "\n",
    "val_transform = transforms.Compose([\n",
    "    transforms.Resize((224, 224)),\n",
    "    transforms.ToTensor(),\n",
    "    transforms.Normalize(mean=[0.485, 0.456, 0.406], std=[0.229, 0.224, 0.225])\n",
    "])\n",
    "\n",
    "test_transform = val_transform  # No augmentation for test data"
   ]
  },
  {
   "cell_type": "code",
   "execution_count": 79,
   "id": "53ea5092-c4ec-445f-b59f-8a16a5cfa80b",
   "metadata": {},
   "outputs": [],
   "source": [
    "# Create Subsets\n",
    "train_dataset = Subset(all_data, train_idx)\n",
    "val_dataset = Subset(all_data, val_idx)\n",
    "test_dataset = Subset(all_data, test_idx)\n",
    "\n",
    "# Set the augmentations\n",
    "train_dataset.dataset.transform = train_transform\n",
    "val_dataset.dataset.transform = val_transform\n",
    "test_dataset.dataset.transform = test_transform"
   ]
  },
  {
   "cell_type": "code",
   "execution_count": 67,
   "id": "03ba8bc8-a5bd-4f8f-90cc-56a6c8311aa8",
   "metadata": {},
   "outputs": [],
   "source": [
    "# Compute class weights for use with weighted loss function\n",
    "class_counts = np.bincount(train_labels)\n",
    "class_weights = 1.0 / torch.tensor(class_counts, dtype=torch.float32)\n",
    "class_weights_normalized = class_weights / class_weights.sum()"
   ]
  },
  {
   "cell_type": "code",
   "execution_count": 68,
   "id": "f4927ece-ccb7-4644-a486-c5528c7e1332",
   "metadata": {},
   "outputs": [],
   "source": [
    "# Create WeightedRandomSampler for oversampling minority classes in training batches\n",
    "sampler = WeightedRandomSampler(weights=class_weights_normalized, num_samples=len(class_weights_normalized), replacement=True)"
   ]
  },
  {
   "cell_type": "code",
   "execution_count": 83,
   "id": "ca9de1ea-a8fc-4863-8709-68cef8734452",
   "metadata": {},
   "outputs": [],
   "source": [
    "# Get the pretrained Swin Transformer model\n",
    "num_classes = len(np.unique(train_labels))\n",
    "model = timm.create_model(\"swin_base_patch4_window7_224\", pretrained=True, num_classes=num_classes, drop_rate=0.3)"
   ]
  },
  {
   "cell_type": "code",
   "execution_count": 76,
   "id": "7b0a5956-2507-4d94-9fcc-2733edfd31d0",
   "metadata": {},
   "outputs": [],
   "source": [
    "# Freeze early layers\n",
    "for param in model.patch_embed.parameters():\n",
    "    param.requires_grad = False"
   ]
  },
  {
   "cell_type": "code",
   "execution_count": 86,
   "id": "6f109ec4-23f3-42b0-98df-ddeb9f1aa998",
   "metadata": {},
   "outputs": [],
   "source": [
    "# Learning rate warmup function\n",
    "def warmup_lr(epoch, warmup_epochs=3):\n",
    "    if epoch < warmup_epochs:\n",
    "        return (epoch+1) / warmup_epochs # Gradually increase LR\n",
    "\n",
    "    return 1 # Keep LR at base value after warmup"
   ]
  },
  {
   "cell_type": "code",
   "execution_count": 87,
   "id": "24e227dc-7158-4c97-914a-fb60d7d6b5b9",
   "metadata": {},
   "outputs": [],
   "source": [
    "# Define hyperparameters\n",
    "batch = 32\n",
    "criterion = torch.nn.CrossEntropyLoss(weight=class_weights_normalized)\n",
    "learning_rate = 0.0003\n",
    "decay = 0.01\n",
    "lr_warmup_epochs = 3\n",
    "optimizer = optim.AdamW(model.parameters(), lr=learning_rate, weight_decay=decay)\n",
    "\n",
    "# Add a learning rate scheduler\n",
    "scheduler = torch.optim.lr_scheduler.ReduceLROnPlateau(optimizer, mode='min', factor=0.5, patience=3)\n",
    "warmup_scheduler = lr_scheduler.LambdaLR(optimizer, lr_lambda=lambda epoch: warmup_lr(epoch, lr_warmup_epochs))\n",
    "\n",
    "num_epochs = 15\n",
    "best_val_loss = float(\"inf\")\n",
    "best_val_path = \"best_model.pth\"\n",
    "device = torch.device(\"cuda\" if torch.cuda.is_available() else \"cpu\")"
   ]
  },
  {
   "cell_type": "code",
   "execution_count": 81,
   "id": "4a442707-aebc-4feb-95aa-c63758a4f10a",
   "metadata": {},
   "outputs": [],
   "source": [
    "# Create the DataLoaders\n",
    "train_loader = DataLoader(train_dataset, batch_size=batch, sampler=sampler)\n",
    "val_loader = DataLoader(val_dataset, batch_size=batch, shuffle=False)\n",
    "test_loader = DataLoader(test_dataset, batch_size=batch, shuffle=False)"
   ]
  },
  {
   "cell_type": "code",
   "execution_count": 82,
   "id": "6af07bfb-4f00-4c08-bd32-f70b0e3e1868",
   "metadata": {},
   "outputs": [
    {
     "name": "stdout",
     "output_type": "stream",
     "text": [
      "Epoch 1: Learning Rate: 0.0005\n",
      "Train Loss: 3.3600\n",
      "Validation Loss: 3.6735\n",
      "New best model saved.\n",
      "Epoch 2: Learning Rate: 0.0005\n",
      "Train Loss: 1.1104\n",
      "Validation Loss: 6.4124\n",
      "Epoch 3: Learning Rate: 0.0005\n",
      "Train Loss: 1.8704\n",
      "Validation Loss: 3.2980\n",
      "New best model saved.\n",
      "Epoch 4: Learning Rate: 0.0005\n",
      "Train Loss: 1.9925\n",
      "Validation Loss: 5.0247\n",
      "Epoch 5: Learning Rate: 0.0005\n",
      "Train Loss: 1.6285\n",
      "Validation Loss: 4.3483\n",
      "Epoch 6: Learning Rate: 0.0005\n",
      "Train Loss: 0.7345\n",
      "Validation Loss: 5.1635\n",
      "Epoch 7: Learning Rate: 0.00025\n",
      "Train Loss: 0.4282\n",
      "Validation Loss: 4.5313\n",
      "Epoch 8: Learning Rate: 0.00025\n",
      "Train Loss: 0.6540\n",
      "Validation Loss: 3.9253\n",
      "Epoch 9: Learning Rate: 0.00025\n",
      "Train Loss: 0.3104\n",
      "Validation Loss: 3.4770\n",
      "Epoch 10: Learning Rate: 0.00025\n",
      "Train Loss: 0.2321\n",
      "Validation Loss: 3.4565\n",
      "Epoch 11: Learning Rate: 0.000125\n",
      "Train Loss: 2.3520\n",
      "Validation Loss: 3.3919\n",
      "Epoch 12: Learning Rate: 0.000125\n",
      "Train Loss: 0.8579\n",
      "Validation Loss: 3.4770\n",
      "Epoch 13: Learning Rate: 0.000125\n",
      "Train Loss: 0.5129\n",
      "Validation Loss: 3.8717\n",
      "Epoch 14: Learning Rate: 0.000125\n",
      "Train Loss: 0.0200\n",
      "Validation Loss: 4.3165\n",
      "Epoch 15: Learning Rate: 6.25e-05\n",
      "Train Loss: 0.0457\n",
      "Validation Loss: 4.6689\n"
     ]
    }
   ],
   "source": [
    "for epoch in range(num_epochs):\n",
    "    model.train()\n",
    "    train_loss = 0\n",
    "\n",
    "    # Training loop\n",
    "    for images, labels in train_loader:\n",
    "        images, labels = images.to(device), labels.to(device)\n",
    "\n",
    "        # Forward pass\n",
    "        optimizer.zero_grad()\n",
    "        outputs = model(images)\n",
    "        loss = criterion(outputs, labels)\n",
    "\n",
    "        # Backprop\n",
    "        loss.backward()\n",
    "        optimizer.step()\n",
    "\n",
    "        train_loss += loss.item()\n",
    "        \n",
    "    train_loss /= len(train_loader)\n",
    "    # Adjust learning rate initially\n",
    "    if epoch < lr_warmup_epochs:\n",
    "        warmup_scheduler.step()\n",
    "    \n",
    "    # Validation loop\n",
    "    model.eval()\n",
    "    val_loss = 0\n",
    "\n",
    "    with torch.no_grad():\n",
    "        for images, labels in val_loader:\n",
    "            images, labels = images.to(device), labels.to(device)\n",
    "\n",
    "            outputs = model(images)\n",
    "            loss = criterion(outputs, labels)\n",
    "            val_loss += loss.item()\n",
    "            \n",
    "    val_loss /= len(val_loader)\n",
    "\n",
    "    # Adjust learning rate based on validation loss\n",
    "    scheduler.step(val_loss)\n",
    "\n",
    "    print(f\"Epoch {epoch+1}: Learning Rate: {scheduler.optimizer.param_groups[0]['lr']}\")\n",
    "    print(f\"Train Loss: {train_loss:.4f}\")\n",
    "    print(f\"Validation Loss: {val_loss:.4f}\")\n",
    "\n",
    "    # Save the best model based on validation loss\n",
    "    if val_loss < best_val_loss:\n",
    "        best_val_loss = val_loss\n",
    "        print(\"New best model saved.\")\n",
    "        torch.save(model.state_dict(), best_val_path)"
   ]
  },
  {
   "cell_type": "code",
   "execution_count": null,
   "id": "a9a1525e-e435-4e26-b836-ddfc59f5de59",
   "metadata": {},
   "outputs": [],
   "source": []
  }
 ],
 "metadata": {
  "kernelspec": {
   "display_name": "Python 3 (ipykernel)",
   "language": "python",
   "name": "python3"
  },
  "language_info": {
   "codemirror_mode": {
    "name": "ipython",
    "version": 3
   },
   "file_extension": ".py",
   "mimetype": "text/x-python",
   "name": "python",
   "nbconvert_exporter": "python",
   "pygments_lexer": "ipython3",
   "version": "3.10.12"
  }
 },
 "nbformat": 4,
 "nbformat_minor": 5
}
