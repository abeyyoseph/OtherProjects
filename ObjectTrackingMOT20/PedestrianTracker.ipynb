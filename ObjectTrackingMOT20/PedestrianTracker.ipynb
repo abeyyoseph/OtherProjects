{
 "cells": [
  {
   "cell_type": "code",
   "execution_count": 4,
   "id": "c6df101f-0315-4c62-9bad-a4b9d594821f",
   "metadata": {},
   "outputs": [],
   "source": [
    "import os"
   ]
  },
  {
   "cell_type": "code",
   "execution_count": 2,
   "id": "c75a8706-6734-44f4-8e7a-8fc91cddabb3",
   "metadata": {},
   "outputs": [],
   "source": [
    "base_dir = \"MOT20Dataset/train/MOT20-01\""
   ]
  },
  {
   "cell_type": "code",
   "execution_count": 7,
   "id": "0375c155-115d-4772-9d41-7ef697b4e81d",
   "metadata": {},
   "outputs": [],
   "source": [
    "# Need to convert MOT20 dataset to YOLO format\n",
    "input_file = f'{base_dir}/gt/gt.txt'\n",
    "output_dir = f'{base_dir}/labels'  # Directory to store YOLO annotations\n",
    "image_width = 1920     \n",
    "image_height = 1080\n",
    "\n",
    "# Create output directory\n",
    "os.makedirs(output_dir, exist_ok=True)\n",
    "\n",
    "# Process gt.txt\n",
    "with open(input_file, \"r\") as f:\n",
    "    for line in f:\n",
    "        # Split line and filter for required values\n",
    "        parts = line.strip().split(\",\")\n",
    "        \n",
    "        # Ensure we have at least the first 7 values\n",
    "        if len(parts) < 7:\n",
    "            continue  # Skip invalid lines\n",
    "        \n",
    "        # Parse required values\n",
    "        frame = int(parts[0])\n",
    "        obj_id = int(parts[1])\n",
    "        bb_left = float(parts[2])\n",
    "        bb_top = float(parts[3])\n",
    "        bb_width = float(parts[4])\n",
    "        bb_height = float(parts[5])\n",
    "        conf = float(parts[6])\n",
    "        \n",
    "        # Skip entries with conf == 0\n",
    "        if conf == 0:\n",
    "            continue\n",
    "\n",
    "        # Normalize bounding box coordinates\n",
    "        x_center = (bb_left + bb_width / 2) / image_width\n",
    "        y_center = (bb_top + bb_height / 2) / image_height\n",
    "        width = bb_width / image_width\n",
    "        height = bb_height / image_height\n",
    "\n",
    "        # YOLO format: <class_id> <x_center> <y_center> <width> <height>\n",
    "        yolo_line = f\"{int(obj_id)} {x_center:.6f} {y_center:.6f} {width:.6f} {height:.6f}\"\n",
    "\n",
    "        # Write to frame-specific file\n",
    "        output_file = os.path.join(output_dir, f\"{int(frame):06d}.txt\")\n",
    "        with open(output_file, \"a\") as out_f:\n",
    "            out_f.write(yolo_line + \"\\n\")"
   ]
  },
  {
   "cell_type": "code",
   "execution_count": null,
   "id": "2c90a1c2-78e9-41b4-a5fa-a635edb0ec62",
   "metadata": {},
   "outputs": [],
   "source": []
  }
 ],
 "metadata": {
  "kernelspec": {
   "display_name": "Python 3 (ipykernel)",
   "language": "python",
   "name": "python3"
  },
  "language_info": {
   "codemirror_mode": {
    "name": "ipython",
    "version": 3
   },
   "file_extension": ".py",
   "mimetype": "text/x-python",
   "name": "python",
   "nbconvert_exporter": "python",
   "pygments_lexer": "ipython3",
   "version": "3.10.12"
  }
 },
 "nbformat": 4,
 "nbformat_minor": 5
}
