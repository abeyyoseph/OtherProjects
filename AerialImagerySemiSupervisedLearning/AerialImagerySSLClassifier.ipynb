{
 "cells": [
  {
   "cell_type": "code",
   "execution_count": 126,
   "id": "60503ee4-4cd1-4d99-860d-95decab1fce2",
   "metadata": {},
   "outputs": [],
   "source": [
    "import pandas as pd\n",
    "import numpy as np\n",
    "import os\n",
    "import torch\n",
    "import torchvision.transforms as transforms\n",
    "import torchvision.datasets as datasets\n",
    "from torch.utils.data import DataLoader, random_split, WeightedRandomSampler, Subset, ConcatDataset, TensorDataset\n",
    "import torch.optim.lr_scheduler as lr_scheduler\n",
    "import torch.nn as nn\n",
    "from sklearn.model_selection import train_test_split\n",
    "from torchvision.datasets import ImageFolder\n",
    "import torch.optim as optim\n",
    "from torchvision import models\n",
    "from torchvision.models import vit_b_16, ViT_B_16_Weights\n",
    "from sklearn.metrics import precision_score, recall_score, f1_score, confusion_matrix\n",
    "import matplotlib.pyplot as plt\n",
    "import torch.nn.functional as F\n",
    "from PIL import Image\n",
    "from collections import Counter\n",
    "\n",
    "device = torch.device(\"cuda\" if torch.cuda.is_available() else \"cpu\")"
   ]
  },
  {
   "cell_type": "code",
   "execution_count": 5,
   "id": "4fd5a935-3c6b-43e3-af3d-0d67e20a2bad",
   "metadata": {},
   "outputs": [],
   "source": [
    "base_dir = \"data/FloodNet Challenge - Track 1\""
   ]
  },
  {
   "cell_type": "code",
   "execution_count": 133,
   "id": "5efff01e-6f84-45f8-bcf2-97cc2f2a6e75",
   "metadata": {},
   "outputs": [],
   "source": [
    "class FloodNetImageDataset(Dataset):\n",
    "    def __init__(self, image_paths, labels, transform=None):\n",
    "        self.image_paths = image_paths\n",
    "        self.labels = labels\n",
    "        self.transform = transform\n",
    "\n",
    "    def __len__(self):\n",
    "        return len(self.image_paths)\n",
    "\n",
    "    def __getitem__(self, idx):\n",
    "        image = Image.open(self.image_paths[idx]).convert(\"RGB\")\n",
    "        if self.transform:\n",
    "            image = self.transform(image)\n",
    "        return image, torch.tensor(self.labels[idx], dtype=torch.long)"
   ]
  },
  {
   "cell_type": "code",
   "execution_count": 75,
   "id": "15582648-7e0e-4876-9e36-3e39c85ae04e",
   "metadata": {},
   "outputs": [],
   "source": [
    "# Define data augmentations and preprocessing\n",
    "train_transforms = transforms.Compose([\n",
    "    transforms.Resize((224, 224)),\n",
    "    transforms.RandomHorizontalFlip(p=0.5),\n",
    "    transforms.RandomVerticalFlip(p=0.3),\n",
    "    transforms.RandomRotation(15),\n",
    "    transforms.ColorJitter(brightness=0.2, contrast=0.2),\n",
    "    transforms.ToTensor(),\n",
    "    transforms.Normalize(mean=[0.485, 0.456, 0.406], std=[0.229, 0.224, 0.225]) # ImageNet stats\n",
    "])\n",
    "\n",
    "# Validation transforms (no augmentation)\n",
    "val_transforms = transforms.Compose([\n",
    "    transforms.Resize((224, 224)),\n",
    "    transforms.ToTensor(),\n",
    "    transforms.Normalize(mean=[0.485, 0.456, 0.406],\n",
    "                         std=[0.229, 0.224, 0.225]),\n",
    "])"
   ]
  },
  {
   "cell_type": "code",
   "execution_count": 77,
   "id": "afbe9528-6f4c-46d3-89ce-58c3ce00a42d",
   "metadata": {},
   "outputs": [
    {
     "name": "stdout",
     "output_type": "stream",
     "text": [
      "Number of training samples:  318\n",
      "Number of validation samples:  80\n"
     ]
    }
   ],
   "source": [
    "# Split the labeled training data into training and validation sets. The validation set will be used\n",
    "# for final evaluation of the model\n",
    "train_dir = f'{base_dir}/Train/Labeled'\n",
    "\n",
    "image_paths = []\n",
    "labels = []\n",
    "class_to_idx = {'Flooded': 0, 'Non-Flooded':1}\n",
    "\n",
    "for class_name in ['Flooded', 'Non-Flooded']:\n",
    "    image_dir = os.path.join(train_dir, class_name, 'image')\n",
    "    if not os.path.exists(image_dir):\n",
    "        continue\n",
    "\n",
    "    for fname in os.listdir(image_dir):\n",
    "        if fname.lower().endswith(('.jpg', '.png')):\n",
    "            image_paths.append(os.path.join(image_dir, fname))\n",
    "            labels.append(class_to_idx[class_name])\n",
    "\n",
    "# Perform 80-20 stratified split with paths and labels\n",
    "train_paths, val_paths, train_labels, val_labels = train_test_split(\n",
    "    image_paths, labels, test_size=0.2, stratify=labels, random_state=42\n",
    ")\n",
    "\n",
    "print(\"Number of training samples: \", len(train_labels))\n",
    "print(\"Number of validation samples: \", len(val_labels))"
   ]
  },
  {
   "cell_type": "code",
   "execution_count": 78,
   "id": "25d0d496-2b0a-42da-bd23-5bfbbc4e1967",
   "metadata": {},
   "outputs": [
    {
     "name": "stdout",
     "output_type": "stream",
     "text": [
      "Train Label Distribution:\n",
      "Label 0: 41\n",
      "Label 1: 277\n"
     ]
    }
   ],
   "source": [
    "# Count label occurrences\n",
    "label_counts = Counter(train_labels)\n",
    "\n",
    "# Print class distribution by label index\n",
    "print(\"Train Label Distribution:\")\n",
    "for label_idx, count in sorted(label_counts.items()):\n",
    "    print(f\"Label {label_idx}: {count}\")"
   ]
  },
  {
   "cell_type": "code",
   "execution_count": 134,
   "id": "24cadeb0-9dc2-446f-a62b-f4aa47852a31",
   "metadata": {},
   "outputs": [],
   "source": [
    "# Create the training and validation datasets\n",
    "train_dataset = FloodNetImageDataset(train_paths, train_labels, transform=train_transforms)\n",
    "val_dataset = FloodNetImageDataset(val_paths, val_labels, transform=val_transforms)"
   ]
  },
  {
   "cell_type": "code",
   "execution_count": 80,
   "id": "cf11aaab-5108-4e71-9bcd-794266b5703a",
   "metadata": {},
   "outputs": [],
   "source": [
    "# Large class imbalance so need to use WeightedRandomSampler to ensure balanced mini-batches\n",
    "# during training.\n",
    "\n",
    "# Extract the training labels from the dataset\n",
    "targets = [label for _, label in train_dataset]\n",
    "\n",
    "# Calculate class weights, which are the inverse of class frequencies. Classes with fewer samples will get assigned a higher \n",
    "# weight (ensuring that the minority class receives a higher weight, making it more likely to be sampled during training).\n",
    "class_counts = np.bincount(targets)  # Count the number of samples per class\n",
    "class_weights = 1.0 / torch.tensor(class_counts, dtype=torch.float)\n",
    "\n",
    "# Assign a weight to each sample\n",
    "sample_weights = torch.tensor([class_weights[label] for label in targets], dtype=torch.float)\n",
    "\n",
    "# Create the WeightedRandomSampler\n",
    "sampler = WeightedRandomSampler(weights=sample_weights, num_samples=len(sample_weights), replacement=True)"
   ]
  },
  {
   "cell_type": "code",
   "execution_count": 81,
   "id": "e5791f5b-fc45-4738-abfa-ef86fcf36db2",
   "metadata": {},
   "outputs": [],
   "source": [
    "# Import the ViT model for transfer learning\n",
    "model = models.vit_b_16(weights=ViT_B_16_Weights.DEFAULT )\n",
    "# Freeze the parameters in the base model so only the new layers are being updated\n",
    "for param in model.parameters():\n",
    "    param.requires_grad = False\n",
    "\n",
    "num_classes = len(class_counts)\n",
    "# Replace the final layer with a FC layer\n",
    "model.heads.head = nn.Linear(model.heads.head.in_features, num_classes)\n",
    "\n",
    "# Unfreeze the final layer to allow it to learn during training\n",
    "for param in model.heads.head.parameters():\n",
    "    param.requires_grad = True\n",
    "\n",
    "model = model.to(device)"
   ]
  },
  {
   "cell_type": "code",
   "execution_count": 64,
   "id": "f6f55505-5ceb-4967-925e-09242793b098",
   "metadata": {},
   "outputs": [],
   "source": [
    "# Define learning rate scheduler with warmup period\n",
    "def get_linear_warmup_scheduler(optimizer, base_lr, num_epochs, num_warmup=3):\n",
    "    def lr_lambda(epoch):\n",
    "        return min(1.0, (epoch+1) / num_warmup)\n",
    "\n",
    "    return lr_scheduler.LambdaLR(optimizer, lr_lambda)\n",
    "\n",
    "# Halve learning rate if loss doesn't improve after 3 epochs\n",
    "def get_plateau_scheduler(optimizer):\n",
    "    return lr_scheduler.ReduceLROnPlateau(\n",
    "        optimizer,\n",
    "        mode='min',\n",
    "        factor=0.5, # halve the loss\n",
    "        threshold=1e-4,\n",
    "        patience=3) # apply after 3 epochs of non-improving loss"
   ]
  },
  {
   "cell_type": "code",
   "execution_count": 135,
   "id": "1922dd45-de6d-4ed9-95d4-8711979e2863",
   "metadata": {},
   "outputs": [],
   "source": [
    "# Initialize the loss function with the class weights to penalize errors made on the minority class more heavily.\n",
    "criterion = nn.CrossEntropyLoss(weight=class_weights)\n",
    "batch_size = 32\n",
    "learning_rate = 0.001\n",
    "weight_decay = 0.001\n",
    "optimizer = optim.AdamW(model.parameters(), lr=learning_rate, weight_decay=weight_decay)\n",
    "num_epochs = 20\n",
    "warmup_epochs = 3\n",
    "warmup_scheduler = get_linear_warmup_scheduler(optimizer, learning_rate, num_epochs, warmup_epochs)\n",
    "plateau_scheduler = get_plateau_scheduler(optimizer)\n",
    "\n",
    "# Create DataLoaders for training and validation\n",
    "train_loader = DataLoader(train_dataset, batch_size=batch_size, sampler=sampler, num_workers=4)\n",
    "val_loader = DataLoader(val_dataset, batch_size=batch_size, shuffle=False, num_workers=4)"
   ]
  },
  {
   "cell_type": "code",
   "execution_count": 145,
   "id": "412c8681-1d3a-45df-a6d3-ab4cadeadb5a",
   "metadata": {},
   "outputs": [],
   "source": [
    "def train_model(model, train_loader, criterion, optimizer, num_epochs, device, \n",
    "                is_initial=True, val_loader=None):\n",
    "    best_f1 = -1.0\n",
    "    best_val_f1 = -1.0\n",
    "    best_confidence = -float('inf')\n",
    "    all_training_f1 = [] # Store the F1 scores per training epoch\n",
    "    all_validation_f1 = [] # Store the validation F1 scores per training epoch\n",
    "    all_confidences = [] # Store the average confidence for the retrained model\n",
    "    save_path = \"best_initial_model.pth\" if is_initial else \"best_retrained_model.pth\"\n",
    "        \n",
    "    for epoch in range(num_epochs):\n",
    "        model.train()\n",
    "        train_loss = 0.0\n",
    "        all_preds = []\n",
    "        all_labels = []\n",
    "        \n",
    "        for batch in train_loader:\n",
    "            images, labels = batch        \n",
    "            images = images.to(device)\n",
    "            labels = labels.to(device)\n",
    "            \n",
    "            optimizer.zero_grad()\n",
    "            outputs = model(images)\n",
    "            loss = criterion(outputs, labels)\n",
    "            loss.backward()\n",
    "            optimizer.step()\n",
    "\n",
    "            train_loss += loss.item()\n",
    "\n",
    "            # Track predictions and labels\n",
    "            _, preds = torch.max(outputs, 1)\n",
    "            all_preds.extend(preds.cpu().numpy())\n",
    "            all_labels.extend(labels.cpu().numpy())\n",
    "\n",
    "        avg_train_loss = train_loss / len(train_loader)\n",
    "        train_acc = (np.array(all_preds) == np.array(all_labels)).mean()\n",
    "        train_f1 = f1_score(all_labels, all_preds, average='weighted')\n",
    "        all_training_f1.append(train_f1)\n",
    "        print(f\"Epoch [{epoch+1}/{num_epochs}] | Loss: {avg_train_loss:.4f} | Acc: {train_acc:.4f} | Train F1: {train_f1:.4f}\")\n",
    "        \n",
    "        # Check if validation should be used for model saving\n",
    "        if not is_initial and val_loader is not None:\n",
    "            # Validation step\n",
    "            model.eval()\n",
    "            \n",
    "            with torch.no_grad():\n",
    "                all_val_preds = []\n",
    "                all_val_labels = []\n",
    "                total_confidence = 0.0\n",
    "\n",
    "                for val_images, val_labels in val_loader:\n",
    "                    val_images = val_images.to(device)\n",
    "                    val_labels = val_labels.to(device)\n",
    "                    \n",
    "                    val_outputs = model(val_images)\n",
    "                    probabilities = torch.softmax(val_outputs, dim=1)\n",
    "                    confidences, preds = torch.max(probabilities, dim=1)\n",
    "\n",
    "                    total_confidence += confidences.sum().item()\n",
    "                    all_val_preds.extend(preds.cpu().numpy())\n",
    "                    all_val_labels.extend(val_labels.cpu().numpy())\n",
    "            \n",
    "            avg_confidence = total_confidence / len(val_loader.dataset)\n",
    "            all_confidences.append(avg_confidence)\n",
    "            val_f1 = f1_score(all_val_labels, all_val_preds, average='weighted')\n",
    "            all_validation_f1.append(val_f1)\n",
    "            val_acc = (np.array(all_val_preds) == np.array(all_val_labels)).mean()\n",
    "            print(f\"Validation Accuracy: {val_acc:.4f} | F1 Score: {val_f1:.4f} | Average Confidence: {avg_confidence:.4f}\")\n",
    "\n",
    "            # Save the best retrained model based on confidence\n",
    "            if val_f1 > best_val_f1:\n",
    "                best_val_f1 = val_f1\n",
    "                torch.save(model.state_dict(), save_path)\n",
    "                print(f\"Model saved with val F1 score: {best_val_f1:.4f}\")\n",
    "        \n",
    "        else:\n",
    "            # Save the best model based on training F1 score (due to large class imbalance)\n",
    "            if train_f1 > best_f1:\n",
    "                best_f1 = train_f1\n",
    "                torch.save(model.state_dict(), save_path)\n",
    "                print(f\"New best model saved with training F1 score: {best_f1:.4f}\")\n",
    "\n",
    "        # Step the scheduler at the end of each epoch\n",
    "        if warmup_scheduler and epoch < warmup_epochs:\n",
    "            warmup_scheduler.step()\n",
    "        elif plateau_scheduler and not is_initial and val_loader is not None:\n",
    "            plateau_scheduler.step(-avg_confidence)  # Use negative confidence to minimize\n",
    "        elif plateau_scheduler:\n",
    "            plateau_scheduler.step(train_f1)  # Fallback if val not used\n",
    "    \n",
    "    return model, all_training_f1, all_confidences, all_validation_f1"
   ]
  },
  {
   "cell_type": "code",
   "execution_count": 84,
   "id": "2d15ae61-3bb3-4a1c-b090-efee0ee5ec5a",
   "metadata": {
    "scrolled": true
   },
   "outputs": [
    {
     "name": "stdout",
     "output_type": "stream",
     "text": [
      "Epoch [1/20] | Loss: 0.4355 | Acc: 0.5252 | F1: 0.4273\n",
      "New best model saved with training F1 score: 0.4273\n",
      "Epoch [2/20] | Loss: 0.3396 | Acc: 0.4906 | F1: 0.3547\n",
      "Epoch [3/20] | Loss: 0.2579 | Acc: 0.5597 | F1: 0.4817\n",
      "New best model saved with training F1 score: 0.4817\n",
      "Epoch [4/20] | Loss: 0.2054 | Acc: 0.7264 | F1: 0.7058\n",
      "New best model saved with training F1 score: 0.7058\n",
      "Epoch [5/20] | Loss: 0.1499 | Acc: 0.7925 | F1: 0.7845\n",
      "New best model saved with training F1 score: 0.7845\n",
      "Epoch [6/20] | Loss: 0.1400 | Acc: 0.8428 | F1: 0.8386\n",
      "New best model saved with training F1 score: 0.8386\n",
      "Epoch [7/20] | Loss: 0.1079 | Acc: 0.8962 | F1: 0.8948\n",
      "New best model saved with training F1 score: 0.8948\n",
      "Epoch [8/20] | Loss: 0.0942 | Acc: 0.8931 | F1: 0.8908\n",
      "Epoch [9/20] | Loss: 0.0864 | Acc: 0.9151 | F1: 0.9139\n",
      "New best model saved with training F1 score: 0.9139\n",
      "Epoch [10/20] | Loss: 0.1050 | Acc: 0.8868 | F1: 0.8852\n",
      "Epoch [11/20] | Loss: 0.1164 | Acc: 0.9245 | F1: 0.9247\n",
      "New best model saved with training F1 score: 0.9247\n",
      "Epoch [12/20] | Loss: 0.0750 | Acc: 0.9371 | F1: 0.9367\n",
      "New best model saved with training F1 score: 0.9367\n",
      "Epoch [13/20] | Loss: 0.0935 | Acc: 0.9057 | F1: 0.9050\n",
      "Epoch [14/20] | Loss: 0.0784 | Acc: 0.9308 | F1: 0.9305\n",
      "Epoch [15/20] | Loss: 0.0863 | Acc: 0.9182 | F1: 0.9176\n",
      "Epoch [16/20] | Loss: 0.0823 | Acc: 0.9277 | F1: 0.9277\n",
      "Epoch [17/20] | Loss: 0.0801 | Acc: 0.9434 | F1: 0.9429\n",
      "New best model saved with training F1 score: 0.9429\n",
      "Epoch [18/20] | Loss: 0.0910 | Acc: 0.9151 | F1: 0.9152\n",
      "Epoch [19/20] | Loss: 0.0784 | Acc: 0.9371 | F1: 0.9365\n",
      "Epoch [20/20] | Loss: 0.0965 | Acc: 0.9182 | F1: 0.9175\n"
     ]
    }
   ],
   "source": [
    "trained_model, training_f1_scores, _, _ = train_model(\n",
    "    model=model,\n",
    "    train_loader=train_loader,\n",
    "    criterion=criterion,\n",
    "    optimizer=optimizer,\n",
    "    num_epochs=num_epochs,\n",
    "    device=device,\n",
    "    is_initial=True,\n",
    ")"
   ]
  },
  {
   "cell_type": "code",
   "execution_count": 85,
   "id": "1bfdb0df-b0c3-4d02-998d-4dbde897b366",
   "metadata": {},
   "outputs": [
    {
     "data": {
      "image/png": "[encoded data removed]",
      "text/plain": [
       "<Figure size 800x600 with 1 Axes>"
      ]
     },
     "metadata": {},
     "output_type": "display_data"
    }
   ],
   "source": [
    "# Plot the loss and F1 score vs training epoch\n",
    "epochs = range(1, len(training_f1_scores) + 1)\n",
    "\n",
    "plt.figure(figsize=(8, 6))\n",
    "plt.plot(epochs, training_f1_scores, label='Training F1 score', marker='o')\n",
    "plt.title('Training F1 score')\n",
    "plt.xlabel('Epoch')\n",
    "plt.ylabel('F1 Score')\n",
    "plt.legend()\n",
    "plt.grid(True)\n",
    "plt.tight_layout()\n",
    "plt.show()"
   ]
  },
  {
   "cell_type": "code",
   "execution_count": 86,
   "id": "2fcf705c-f692-46e7-bbbb-76556b6aa460",
   "metadata": {},
   "outputs": [],
   "source": [
    "# Need another class for unlabeled data with different folder structure\n",
    "class UnlabeledImageDataset(Dataset):\n",
    "    def __init__(self, image_dir, transform=None):\n",
    "        self.image_paths = [\n",
    "            os.path.join(image_dir, fname)\n",
    "            for fname in os.listdir(image_dir)\n",
    "            if fname.lower().endswith(('.png', '.jpg'))\n",
    "        ]\n",
    "        self.transform = transform\n",
    "\n",
    "    def __len__(self):\n",
    "        return len(self.image_paths)\n",
    "\n",
    "    def __getitem__(self, idx):\n",
    "        img_path = self.image_paths[idx]\n",
    "        image = Image.open(img_path).convert(\"RGB\")\n",
    "        if self.transform:\n",
    "            image = self.transform(image)\n",
    "        return image  # No label available"
   ]
  },
  {
   "cell_type": "code",
   "execution_count": 127,
   "id": "cef44486-12ec-49a7-b42b-cf7815e7bf2f",
   "metadata": {},
   "outputs": [],
   "source": [
    "def generate_pseudo_labels(trained_model, unlabeled_train_dataset, batch_size, confidence_threshold=0.9):\n",
    "    # Path to the best performing initial model\n",
    "    model_path = os.path.join(\".\", \"best_initial_model.pth\")\n",
    "    trained_model.load_state_dict(torch.load(model_path, weights_only=True))\n",
    "    \n",
    "    # DataLoader for unlabeled data\n",
    "    unlabeled_loader = DataLoader(unlabeled_train_dataset, batch_size=batch_size, shuffle=False, num_workers=4)\n",
    "    print(f\"Number of unlabeled samples: {len(unlabeled_loader.dataset)}\")\n",
    "    pseudo_labeled_data = []\n",
    "    \n",
    "    with torch.no_grad():\n",
    "        for images in unlabeled_loader:\n",
    "            images = images.to(device)\n",
    "            outputs = trained_model(images)\n",
    "            probabilities = F.softmax(outputs, dim=1)  # Get class probabilities\n",
    "            confidences, pseudo_labels = torch.max(probabilities, dim=1)  # Max confidence and corresponding class\n",
    "    \n",
    "            # Save the highest confidence outputs\n",
    "            for i in range(len(images)):\n",
    "                if confidences[i] > confidence_threshold:\n",
    "                    img_tensor = images[i].cpu()\n",
    "                    label_tensor = pseudo_labels[i].cpu().to(dtype=torch.long)\n",
    "                    pseudo_labeled_data.append((img_tensor, label_tensor))\n",
    "    \n",
    "    print(f\"Pseudo-labeled {len(pseudo_labeled_data)} images from the unlabeled dataset.\")\n",
    "\n",
    "    return pseudo_labeled_data"
   ]
  },
  {
   "cell_type": "code",
   "execution_count": null,
   "id": "f3320766-0d6b-47a0-af3b-335c944ea1e2",
   "metadata": {},
   "outputs": [],
   "source": [
    "# Load the unlabeled training data\n",
    "unlabeled_train_dir = f'{base_dir}/Train/Unlabeled/image'\n",
    "\n",
    "# Weak transforms for pseudo-labeling\n",
    "pseudo_transform = transforms.Compose([\n",
    "    transforms.Resize((224, 224)),\n",
    "    transforms.ToTensor(),\n",
    "    transforms.Normalize(mean=[0.485, 0.456, 0.406], std=[0.229, 0.224, 0.225]) # ImageNet stats\n",
    "])\n",
    "unlabeled_train_dataset = UnlabeledImageDataset(unlabeled_train_dir, transform=pseudo_transform)"
   ]
  },
  {
   "cell_type": "code",
   "execution_count": 128,
   "id": "08516177-4ec5-4d71-9ad2-d95d329be308",
   "metadata": {},
   "outputs": [
    {
     "name": "stdout",
     "output_type": "stream",
     "text": [
      "Number of unlabeled samples: 281\n",
      "Pseudo-labeled 86 images from the unlabeled dataset.\n"
     ]
    }
   ],
   "source": [
    "# Generate the pseudo labels for the unlabeled dataset\n",
    "pseudo_labeled_data = generate_pseudo_labels(trained_model, unlabeled_train_dataset, batch_size)"
   ]
  },
  {
   "cell_type": "code",
   "execution_count": 137,
   "id": "27c0e495-11d5-4abf-9fe7-2debf14a601b",
   "metadata": {},
   "outputs": [],
   "source": [
    "# Combine the original training dataset with the high confidence pseudo-labeled data\n",
    "pseudo_images, pseudo_labels = zip(*pseudo_labeled_data)\n",
    "pseudo_dataset = TensorDataset(torch.stack(pseudo_images), torch.stack(pseudo_labels))\n",
    "combined_dataset = ConcatDataset([train_dataset, pseudo_dataset])"
   ]
  },
  {
   "cell_type": "code",
   "execution_count": 140,
   "id": "ab6e622b-2123-4e30-83c5-d3332c2e61a9",
   "metadata": {},
   "outputs": [],
   "source": [
    "# Combine the targets from both datasets\n",
    "all_targets = []\n",
    "\n",
    "for i in range(len(combined_dataset)):\n",
    "    _, label = combined_dataset[i]\n",
    "    all_targets.append(label)\n",
    "    \n",
    "# Calculate class weights (inverse of class frequencies)\n",
    "class_counts = np.bincount(all_targets)\n",
    "class_weights = 1.0 / torch.tensor(class_counts, dtype=torch.float)\n",
    "\n",
    "# Assign weights to each sample in the augmented dataset\n",
    "sample_weights = torch.tensor([class_weights[label] for label in all_targets], dtype=torch.float)\n",
    "\n",
    "# Create the WeightedRandomSampler\n",
    "augmented_sampler = WeightedRandomSampler(weights=sample_weights, num_samples=len(sample_weights), replacement=True)\n",
    "\n",
    "# Create the DataLoader\n",
    "augmented_loader = DataLoader(combined_dataset, batch_size=batch_size, sampler=augmented_sampler, num_workers=4)"
   ]
  },
  {
   "cell_type": "code",
   "execution_count": 146,
   "id": "edbc270e-96f2-4111-a1e0-63fd092f28d9",
   "metadata": {
    "scrolled": true
   },
   "outputs": [
    {
     "name": "stdout",
     "output_type": "stream",
     "text": [
      "Epoch [1/20] | Loss: 0.0220 | Acc: 0.9827 | Train F1: 0.9827\n",
      "Validation Accuracy: 0.8750 | F1 Score: 0.8891 | Average Confidence: 0.9326\n",
      "Model saved with val F1 score: 0.8891\n",
      "Epoch [2/20] | Loss: 0.0230 | Acc: 0.9827 | Train F1: 0.9827\n",
      "Validation Accuracy: 0.8750 | F1 Score: 0.8891 | Average Confidence: 0.9341\n",
      "Epoch [3/20] | Loss: 0.0210 | Acc: 0.9827 | Train F1: 0.9827\n",
      "Validation Accuracy: 0.8625 | F1 Score: 0.8791 | Average Confidence: 0.9253\n",
      "Epoch [4/20] | Loss: 0.0162 | Acc: 0.9851 | Train F1: 0.9851\n",
      "Validation Accuracy: 0.9125 | F1 Score: 0.9196 | Average Confidence: 0.9332\n",
      "Model saved with val F1 score: 0.9196\n",
      "Epoch [5/20] | Loss: 0.0181 | Acc: 0.9851 | Train F1: 0.9851\n",
      "Validation Accuracy: 0.8875 | F1 Score: 0.8991 | Average Confidence: 0.9330\n",
      "Epoch [6/20] | Loss: 0.0114 | Acc: 1.0000 | Train F1: 1.0000\n",
      "Validation Accuracy: 0.8625 | F1 Score: 0.8791 | Average Confidence: 0.9321\n",
      "Epoch [7/20] | Loss: 0.0166 | Acc: 0.9851 | Train F1: 0.9852\n",
      "Validation Accuracy: 0.9000 | F1 Score: 0.9093 | Average Confidence: 0.9408\n",
      "Epoch [8/20] | Loss: 0.0191 | Acc: 0.9876 | Train F1: 0.9876\n",
      "Validation Accuracy: 0.9000 | F1 Score: 0.9093 | Average Confidence: 0.9457\n",
      "Epoch [9/20] | Loss: 0.0123 | Acc: 0.9950 | Train F1: 0.9950\n",
      "Validation Accuracy: 0.8750 | F1 Score: 0.8891 | Average Confidence: 0.9351\n",
      "Epoch [10/20] | Loss: 0.0148 | Acc: 0.9827 | Train F1: 0.9827\n",
      "Validation Accuracy: 0.8750 | F1 Score: 0.8891 | Average Confidence: 0.9414\n",
      "Epoch [11/20] | Loss: 0.0124 | Acc: 0.9950 | Train F1: 0.9951\n",
      "Validation Accuracy: 0.9000 | F1 Score: 0.9093 | Average Confidence: 0.9498\n",
      "Epoch [12/20] | Loss: 0.0116 | Acc: 0.9975 | Train F1: 0.9975\n",
      "Validation Accuracy: 0.8750 | F1 Score: 0.8891 | Average Confidence: 0.9442\n",
      "Epoch [13/20] | Loss: 0.0150 | Acc: 0.9876 | Train F1: 0.9876\n",
      "Validation Accuracy: 0.8875 | F1 Score: 0.8991 | Average Confidence: 0.9458\n",
      "Epoch [14/20] | Loss: 0.0127 | Acc: 0.9926 | Train F1: 0.9926\n",
      "Validation Accuracy: 0.9000 | F1 Score: 0.9093 | Average Confidence: 0.9480\n",
      "Epoch [15/20] | Loss: 0.0184 | Acc: 0.9901 | Train F1: 0.9901\n",
      "Validation Accuracy: 0.9000 | F1 Score: 0.9093 | Average Confidence: 0.9466\n",
      "Epoch [16/20] | Loss: 0.0170 | Acc: 0.9876 | Train F1: 0.9876\n",
      "Validation Accuracy: 0.9000 | F1 Score: 0.9093 | Average Confidence: 0.9495\n",
      "Epoch [17/20] | Loss: 0.0117 | Acc: 0.9926 | Train F1: 0.9926\n",
      "Validation Accuracy: 0.9000 | F1 Score: 0.9093 | Average Confidence: 0.9502\n",
      "Epoch [18/20] | Loss: 0.0110 | Acc: 0.9926 | Train F1: 0.9926\n",
      "Validation Accuracy: 0.9000 | F1 Score: 0.9093 | Average Confidence: 0.9499\n",
      "Epoch [19/20] | Loss: 0.0126 | Acc: 0.9926 | Train F1: 0.9926\n",
      "Validation Accuracy: 0.9000 | F1 Score: 0.9093 | Average Confidence: 0.9496\n",
      "Epoch [20/20] | Loss: 0.0094 | Acc: 0.9950 | Train F1: 0.9950\n",
      "Validation Accuracy: 0.9000 | F1 Score: 0.9093 | Average Confidence: 0.9485\n"
     ]
    }
   ],
   "source": [
    "retrained_model, training_f1_scores, validation_confidence_scores, validation_f1_scores = train_model(\n",
    "    model=trained_model,\n",
    "    train_loader=augmented_loader,\n",
    "    criterion=criterion,\n",
    "    optimizer=optimizer,\n",
    "    num_epochs=num_epochs,\n",
    "    device=device,\n",
    "    is_initial=False,\n",
    "    val_loader=val_loader\n",
    ")"
   ]
  },
  {
   "cell_type": "code",
   "execution_count": 149,
   "id": "a1afa04a-d2c9-493a-8b1e-d9a1c468d35d",
   "metadata": {},
   "outputs": [
    {
     "data": {
      "image/png": "[encoded data removed]",
      "text/plain": [
       "<Figure size 800x600 with 1 Axes>"
      ]
     },
     "metadata": {},
     "output_type": "display_data"
    }
   ],
   "source": [
    "# Plot the loss and F1 score vs training epoch\n",
    "epochs = range(1, len(training_f1_scores) + 1)\n",
    "\n",
    "plt.figure(figsize=(8, 6))\n",
    "plt.plot(epochs, training_f1_scores, label='Training F1 score', marker='o')\n",
    "plt.plot(epochs, validation_f1_scores, label='Validation F1 score', marker='o')\n",
    "plt.plot(epochs, validation_confidence_scores, label='Validation Confidence', marker='o')\n",
    "plt.title('Training w/ Pseudo-labels')\n",
    "plt.xlabel('Epoch')\n",
    "plt.ylabel('Score')\n",
    "plt.ylim(0.5, 1)\n",
    "plt.legend()\n",
    "plt.grid(True)\n",
    "plt.tight_layout()\n",
    "plt.show()"
   ]
  },
  {
   "cell_type": "code",
   "execution_count": null,
   "id": "6210975d-75ae-4d8c-9e02-58ae9435dcf5",
   "metadata": {},
   "outputs": [],
   "source": []
  }
 ],
 "metadata": {
  "kernelspec": {
   "display_name": "Python 3 (ipykernel)",
   "language": "python",
   "name": "python3"
  },
  "language_info": {
   "codemirror_mode": {
    "name": "ipython",
    "version": 3
   },
   "file_extension": ".py",
   "mimetype": "text/x-python",
   "name": "python",
   "nbconvert_exporter": "python",
   "pygments_lexer": "ipython3",
   "version": "3.10.12"
  }
 },
 "nbformat": 4,
 "nbformat_minor": 5
}
