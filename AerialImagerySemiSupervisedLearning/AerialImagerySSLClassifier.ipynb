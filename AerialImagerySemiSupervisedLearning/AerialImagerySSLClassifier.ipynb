{
 "cells": [
  {
   "cell_type": "code",
   "execution_count": 20,
   "id": "60503ee4-4cd1-4d99-860d-95decab1fce2",
   "metadata": {},
   "outputs": [],
   "source": [
    "import pandas as pd\n",
    "import numpy as np\n",
    "import os\n",
    "import torch\n",
    "import torchvision.transforms as transforms\n",
    "import torchvision.datasets as datasets\n",
    "from torch.utils.data import DataLoader, random_split, WeightedRandomSampler, Subset\n",
    "import torch.nn as nn\n",
    "from sklearn.model_selection import train_test_split\n",
    "from torchvision.datasets import ImageFolder\n",
    "import torch.optim as optim\n",
    "from torchvision import models\n",
    "from torchvision.models import vit_b_16, ViT_B_16_Weights\n",
    "from sklearn.metrics import precision_score, recall_score, f1_score, confusion_matrix\n",
    "import seaborn as sns\n",
    "import matplotlib.pyplot as plt\n",
    "from torchmetrics.classification import MulticlassF1Score\n",
    "\n",
    "device = torch.device(\"cuda\" if torch.cuda.is_available() else \"cpu\")"
   ]
  },
  {
   "cell_type": "code",
   "execution_count": 2,
   "id": "4fd5a935-3c6b-43e3-af3d-0d67e20a2bad",
   "metadata": {},
   "outputs": [],
   "source": [
    "base_dir = \"Images/FloodNet Challenge - Track 1\""
   ]
  },
  {
   "cell_type": "code",
   "execution_count": 22,
   "id": "da827e40-8f69-4fd4-8d23-f487e75a12a1",
   "metadata": {},
   "outputs": [],
   "source": [
    "# Define data augmentations and preprocessing\n",
    "train_transforms = transforms.Compose([\n",
    "    transforms.Resize((224, 224)),\n",
    "    transforms.RandomHorizontalFlip(),\n",
    "    transforms.RandomRotation(15),\n",
    "    transforms.ColorJitter(brightness=0.2, contrast=0.2),\n",
    "    transforms.ToTensor(),\n",
    "    transforms.Normalize(mean=[0.485, 0.456, 0.406], std=[0.229, 0.224, 0.225]) # ImageNet stats\n",
    "])\n"
   ]
  },
  {
   "cell_type": "code",
   "execution_count": 23,
   "id": "25d0d496-2b0a-42da-bd23-5bfbbc4e1967",
   "metadata": {},
   "outputs": [
    {
     "name": "stdout",
     "output_type": "stream",
     "text": [
      "Class to Index Mapping: {'Flooded': 0, 'Non-Flooded': 1}\n",
      "Class Distribution:\n",
      "Flooded: 51\n",
      "Non-Flooded: 347\n"
     ]
    }
   ],
   "source": [
    "# Load the labeled training data\n",
    "train_dataset = datasets.ImageFolder(f'{base_dir}/Train/Labeled', transform=train_transforms)\n",
    "# Get the class names and their corresponding indices\n",
    "class_to_idx = train_data.class_to_idx\n",
    "print(f\"Class to Index Mapping: {class_to_idx}\")\n",
    "\n",
    "# Count the samples in each class\n",
    "class_counts = {class_name: 0 for class_name in class_to_idx.keys()}\n",
    "for _, label in train_data.samples:\n",
    "    for class_name, class_idx in class_to_idx.items():\n",
    "        if label == class_idx:\n",
    "            class_counts[class_name] += 1\n",
    "\n",
    "print(\"Class Distribution:\")\n",
    "for class_name, count in class_counts.items():\n",
    "    print(f\"{class_name}: {count}\")"
   ]
  },
  {
   "cell_type": "code",
   "execution_count": 24,
   "id": "cf11aaab-5108-4e71-9bcd-794266b5703a",
   "metadata": {},
   "outputs": [
    {
     "name": "stdout",
     "output_type": "stream",
     "text": [
      "Number of training samples: 398\n"
     ]
    },
    {
     "name": "stderr",
     "output_type": "stream",
     "text": [
      "/tmp/ipykernel_5443/3797760210.py:11: UserWarning: To copy construct from a tensor, it is recommended to use sourceTensor.clone().detach() or sourceTensor.clone().detach().requires_grad_(True), rather than torch.tensor(sourceTensor).\n",
      "  class_weights_tensor = torch.tensor(class_weights, dtype=torch.float32)\n"
     ]
    }
   ],
   "source": [
    "# Large class imbalance so need to use WeightedRandomSampler to ensure balanced mini-batches\n",
    "# during training.\n",
    "\n",
    "# Extract class labels from the dataset\n",
    "targets = train_dataset.targets\n",
    "\n",
    "# Calculate class weights, which are the inverse of class frequencies. Classes with fewer samples will get assigned a higher \n",
    "# weight (ensuring that the minority class receives a higher weight, making it more likely to be sampled during training).\n",
    "class_counts = np.bincount(targets)  # Count the number of samples per class\n",
    "class_weights = 1.0 / torch.tensor(class_counts, dtype=torch.float)\n",
    "class_weights_tensor = torch.tensor(class_weights, dtype=torch.float32)\n",
    "\n",
    "sample_weights = torch.tensor([class_weights[label] for label in targets], dtype=torch.float)\n",
    "\n",
    "# Create the WeightedRandomSampler\n",
    "sampler = WeightedRandomSampler(weights=sample_weights, num_samples=len(sample_weights), replacement=True)\n",
    "\n",
    "# Create DataLoaders with the sampler for training\n",
    "train_loader = DataLoader(train_dataset, batch_size=32, sampler=sampler, num_workers=4)\n",
    "\n",
    "print(f\"Number of training samples: {len(train_loader.dataset)}\")"
   ]
  },
  {
   "cell_type": "code",
   "execution_count": null,
   "id": "412c8681-1d3a-45df-a6d3-ab4cadeadb5a",
   "metadata": {},
   "outputs": [
    {
     "name": "stdout",
     "output_type": "stream",
     "text": [
      "Epoch [1/10], Loss: 0.3853, F1 Score: 0.4793\n",
      "New best model saved with training loss: 0.3853\n",
      "Epoch [2/10], Loss: 0.2069, F1 Score: 0.4984\n",
      "New best model saved with training loss: 0.2069\n",
      "Epoch [3/10], Loss: 0.1841, F1 Score: 0.7557\n",
      "New best model saved with training loss: 0.1841\n",
      "Epoch [4/10], Loss: 0.1425, F1 Score: 0.7746\n",
      "New best model saved with training loss: 0.1425\n",
      "Epoch [5/10], Loss: 0.1242, F1 Score: 0.8649\n",
      "New best model saved with training loss: 0.1242\n",
      "Epoch [6/10], Loss: 0.1134, F1 Score: 0.8748\n",
      "New best model saved with training loss: 0.1134\n",
      "Epoch [7/10], Loss: 0.0898, F1 Score: 0.9068\n",
      "New best model saved with training loss: 0.0898\n",
      "Epoch [8/10], Loss: 0.0981, F1 Score: 0.9295\n",
      "Epoch [9/10], Loss: 0.0644, F1 Score: 0.9495\n",
      "New best model saved with training loss: 0.0644\n"
     ]
    }
   ],
   "source": [
    "# Import the ViT model for transfer learning\n",
    "model = models.vit_b_16(weights=ViT_B_16_Weights.DEFAULT )\n",
    "# Freeze the parameters in the base model so only the new layers are being updated\n",
    "for param in model.parameters():\n",
    "    param.requires_grad = False\n",
    "\n",
    "# Replace the final layer\n",
    "num_classes = len(class_counts)\n",
    "\n",
    "model.heads.head = nn.Linear(model.heads.head.in_features, num_classes)\n",
    "\n",
    "# Unfreeze the final layer to allow it to learn during training\n",
    "for param in model.heads.head.parameters():\n",
    "    param.requires_grad = True\n",
    "\n",
    "model = model.to(device)\n",
    "\n",
    "# Initialize the loss function with the class weights to penalize errors made on the minority class more heavily.\n",
    "criterion = nn.CrossEntropyLoss(weight=class_weights_tensor)\n",
    "\n",
    "# Set up the optimizer\n",
    "optimizer = optim.AdamW(model.parameters(), lr=0.001, weight_decay=0.01)\n",
    "\n",
    "# Set the number of epochs for training\n",
    "num_epochs = 10\n",
    "\n",
    "# Metrics tracker\n",
    "f1_metric = MulticlassF1Score(num_classes=num_classes, average='weighted').to(device)\n",
    "\n",
    "# Store the model with the best performance on training for use on the validation set\n",
    "best_train_loss = float('inf')\n",
    "best_model_path = \"best_model.pth\"  # Path to save the best model based on training loss\n",
    "\n",
    "# Training loop\n",
    "for epoch in range(num_epochs):\n",
    "    model.train()\n",
    "    running_loss = 0.0\n",
    "    f1_metric.reset()\n",
    "\n",
    "    for images, labels in train_loader:  # Iterate over DataLoader\n",
    "        images, labels = images.to(device), labels.to(device)  # Move to device\n",
    "\n",
    "        # Zero the parameter gradients\n",
    "        optimizer.zero_grad()\n",
    "\n",
    "        # Forward pass\n",
    "        outputs = model(images)\n",
    "        loss = criterion(outputs, labels)  # Calculate loss\n",
    "\n",
    "        # Backward pass and optimization\n",
    "        loss.backward()\n",
    "        optimizer.step()\n",
    "\n",
    "        running_loss += loss.item()\n",
    "        preds = torch.argmax(outputs, dim=1)\n",
    "        f1_metric.update(preds, labels)\n",
    "\n",
    "    # Calculate average training loss for this epoch\n",
    "    avg_train_loss = running_loss / len(train_loader)\n",
    "    f1_score = f1_metric.compute()\n",
    "    print(f\"Epoch [{epoch+1}/{num_epochs}], Loss: {avg_train_loss:.4f}, F1 Score: {f1_score:.4f}\")\n",
    "\n",
    "    # Save the model if it has the lowest training loss\n",
    "    if avg_train_loss < best_train_loss:\n",
    "        best_train_loss = avg_train_loss\n",
    "        torch.save(model.state_dict(), best_model_path)\n",
    "        print(f\"New best model saved with training loss: {best_train_loss:.4f}\")"
   ]
  },
  {
   "cell_type": "code",
   "execution_count": null,
   "id": "b52719a8-1aa6-43f4-b47b-8d8bcdc7bdfb",
   "metadata": {},
   "outputs": [],
   "source": []
  }
 ],
 "metadata": {
  "kernelspec": {
   "display_name": "Python 3 (ipykernel)",
   "language": "python",
   "name": "python3"
  },
  "language_info": {
   "codemirror_mode": {
    "name": "ipython",
    "version": 3
   },
   "file_extension": ".py",
   "mimetype": "text/x-python",
   "name": "python",
   "nbconvert_exporter": "python",
   "pygments_lexer": "ipython3",
   "version": "3.10.12"
  }
 },
 "nbformat": 4,
 "nbformat_minor": 5
}
