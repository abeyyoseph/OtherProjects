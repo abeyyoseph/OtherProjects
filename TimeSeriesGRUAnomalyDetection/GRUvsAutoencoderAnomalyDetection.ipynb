{
 "cells": [
  {
   "cell_type": "code",
   "execution_count": 1,
   "id": "17186db7-de12-4477-bc2a-41e2a5d1ea4a",
   "metadata": {},
   "outputs": [],
   "source": [
    "import pandas as pd\n",
    "import numpy as np\n",
    "import os\n",
    "from sklearn.model_selection import train_test_split\n",
    "from sklearn.preprocessing import MinMaxScaler\n",
    "import torch\n",
    "import torch.nn as nn\n",
    "from collections import Counter\n",
    "from torch.utils.data import DataLoader, WeightedRandomSampler, TensorDataset\n",
    "from sklearn.utils.class_weight import compute_class_weight\n",
    "import torch.optim as optim\n",
    "\n",
    "device = torch.device(\"cuda\" if torch.cuda.is_available() else \"cpu\")"
   ]
  },
  {
   "cell_type": "code",
   "execution_count": 18,
   "id": "f53a2336-1d8a-4a93-b04f-65dc77608d32",
   "metadata": {},
   "outputs": [],
   "source": [
    "base_dir = \"SKAB\"\n",
    "SEQ_LENGTH = 8"
   ]
  },
  {
   "cell_type": "code",
   "execution_count": 33,
   "id": "c9286ba0-ad6b-4ed2-b622-dbe344ec46a4",
   "metadata": {},
   "outputs": [],
   "source": [
    "# Load data from directories\n",
    "def load_data(base_dir):\n",
    "    data = []\n",
    "    labels = []\n",
    "    for folder in [\"anomaly-free\", \"other\", \"valve1\", \"valve2\"]:\n",
    "        folder_path = os.path.join(base_dir, folder)\n",
    "        for file in os.listdir(folder_path):\n",
    "            file_path = os.path.join(folder_path, file)\n",
    "            # Load the CSV file and parse the 'datetime' column\n",
    "            df = pd.read_csv(file_path, sep=\";\", parse_dates=[\"datetime\"])\n",
    "            \n",
    "            # Assign labels based on the folder and check if 'anomaly' column exists\n",
    "            if folder == \"anomaly-free\":\n",
    "                # If the folder is 'anomaly-free', assign a 0 label for all rows\n",
    "                data.append(df)\n",
    "                labels.extend([0] * len(df))  # Label all rows as 0 (no anomaly)\n",
    "            else:\n",
    "                data.append(df)  # Add to data list for other folders as well\n",
    "                \n",
    "                # For other folders, check for the 'anomaly' column\n",
    "                if \"anomaly\" in df.columns:\n",
    "                    labels.extend(df[\"anomaly\"].tolist())  # Use 'anomaly' column for labeling\n",
    "                else:\n",
    "                    # Handle case if there's no 'anomaly' column in the other folders\n",
    "                    print(f\"Warning: 'anomaly' column not found in {file_path}. Assigning label 1 by default.\")\n",
    "                    labels.extend([1] * len(df))  # Default to 1 for anomaly detection\n",
    "    \n",
    "    # Concatenate the data from all files\n",
    "    df_combined = pd.concat(data, ignore_index=True)\n",
    "    \n",
    "    # Sort the concatenated dataframe by 'datetime' to maintain the temporal order\n",
    "    df_combined = df_combined.sort_values(by=\"datetime\")\n",
    "    \n",
    "    return df_combined, labels"
   ]
  },
  {
   "cell_type": "code",
   "execution_count": 38,
   "id": "194ecf7e-a4fe-4575-abe1-9cde8dc5013a",
   "metadata": {},
   "outputs": [],
   "source": [
    "# Load and preprocess data\n",
    "all_data_df, data_labels = load_data(base_dir)"
   ]
  },
  {
   "cell_type": "code",
   "execution_count": 39,
   "id": "8be506b9-9d21-4b87-acb9-82c36132d0cb",
   "metadata": {},
   "outputs": [
    {
     "name": "stdout",
     "output_type": "stream",
     "text": [
      "46860 46860\n"
     ]
    }
   ],
   "source": [
    "print(len(all_data_df), len(data_labels))"
   ]
  },
  {
   "cell_type": "code",
   "execution_count": 40,
   "id": "5c7192f1-e967-43f9-aeb4-b32663da0c2f",
   "metadata": {},
   "outputs": [
    {
     "name": "stdout",
     "output_type": "stream",
     "text": [
      "<class 'pandas.core.frame.DataFrame'>\n",
      "Index: 46860 entries, 0 to 44667\n",
      "Data columns (total 11 columns):\n",
      " #   Column               Non-Null Count  Dtype         \n",
      "---  ------               --------------  -----         \n",
      " 0   datetime             46860 non-null  datetime64[ns]\n",
      " 1   Accelerometer1RMS    46860 non-null  float64       \n",
      " 2   Accelerometer2RMS    46860 non-null  float64       \n",
      " 3   Current              46860 non-null  float64       \n",
      " 4   Pressure             46860 non-null  float64       \n",
      " 5   Temperature          46860 non-null  float64       \n",
      " 6   Thermocouple         46860 non-null  float64       \n",
      " 7   Voltage              46860 non-null  float64       \n",
      " 8   Volume Flow RateRMS  46860 non-null  float64       \n",
      " 9   anomaly              37459 non-null  float64       \n",
      " 10  changepoint          37459 non-null  float64       \n",
      "dtypes: datetime64[ns](1), float64(10)\n",
      "memory usage: 4.3 MB\n"
     ]
    }
   ],
   "source": [
    "all_data_df.info()"
   ]
  },
  {
   "cell_type": "code",
   "execution_count": 7,
   "id": "dfc47f94-f94c-4e8d-8d2f-9f03a1b02cc5",
   "metadata": {},
   "outputs": [],
   "source": [
    "# Above shows that there are no missing entries in the rows. The \"anomaly\" and \"changepoint\" columns need to be\n",
    "# removed due to data leakage."
   ]
  },
  {
   "cell_type": "code",
   "execution_count": 41,
   "id": "568793fe-7d26-4c14-a156-dcf9c15ab45d",
   "metadata": {},
   "outputs": [
    {
     "name": "stdout",
     "output_type": "stream",
     "text": [
      "Class 0: 33619 samples\n",
      "Class 1.0: 13241 samples\n"
     ]
    }
   ],
   "source": [
    "# Understand class imbalance\n",
    "label_counts = Counter(data_labels)\n",
    "\n",
    "# Display the counts for each class\n",
    "for label, count in label_counts.items():\n",
    "    print(f\"Class {label}: {count} samples\")"
   ]
  },
  {
   "cell_type": "code",
   "execution_count": 42,
   "id": "f1914502-d2dc-4f8b-a387-e1ffe6114e4d",
   "metadata": {},
   "outputs": [],
   "source": [
    "def create_sequences(data, labels, sequence_length):    \n",
    "    X, y = [], []\n",
    "    for i in range(len(data) - sequence_length):\n",
    "        X.append(data[i:i + sequence_length])\n",
    "        y.append(labels[i + sequence_length])  # Target is the label at the next time step\n",
    "    return np.array(X), np.array(y)"
   ]
  },
  {
   "cell_type": "code",
   "execution_count": 43,
   "id": "e35a9de7-f870-4ebf-b10e-bc538709949b",
   "metadata": {},
   "outputs": [],
   "source": [
    "def preprocess_data(df, labels, sequence_length=8):\n",
    "    # Exclude columns that could cause data leakage (e.g., \"anomaly\" or \"changepoint\")\n",
    "    columns_to_exclude = [\"anomaly\", \"changepoint\"]\n",
    "    for col in columns_to_exclude:\n",
    "        if col in df.columns:\n",
    "            df = df.drop(columns=[col])\n",
    "    \n",
    "    # Only want to use the MinMaxScaler on numerical data, not the datetime\n",
    "    numeric_data = df.select_dtypes(include=[\"float64\", \"int64\"])\n",
    "    \n",
    "    # Scale the numerical data\n",
    "    scaler = MinMaxScaler()\n",
    "    scaled_data = scaler.fit_transform(numeric_data)\n",
    "    \n",
    "    # Perform stratified split into train (60%), validation (20%), and test (20%)\n",
    "    X_train, X_temp, y_train, y_temp = train_test_split(\n",
    "        scaled_data, labels, test_size=0.4, stratify=labels, random_state=42\n",
    "    )\n",
    "    \n",
    "    X_val, X_test, y_val, y_test = train_test_split(\n",
    "        X_temp, y_temp, test_size=0.5, stratify=y_temp, random_state=42\n",
    "    )\n",
    "    \n",
    "    # Create sequences for each split\n",
    "    X_train, y_train = create_sequences(X_train, y_train, sequence_length)\n",
    "    X_val, y_val = create_sequences(X_val, y_val, sequence_length)\n",
    "    X_test, y_test = create_sequences(X_test, y_test, sequence_length)\n",
    "    \n",
    "    return X_train, X_val, X_test, y_train, y_val, y_test"
   ]
  },
  {
   "cell_type": "code",
   "execution_count": 44,
   "id": "733aad18-1879-4350-b014-ced916610614",
   "metadata": {},
   "outputs": [
    {
     "name": "stdout",
     "output_type": "stream",
     "text": [
      "Train set size: 28108\n",
      "Validation set size: 9364\n",
      "Test set size: 9364\n"
     ]
    }
   ],
   "source": [
    "X_train, X_val, X_test, y_train, y_val, y_test = preprocess_data(all_data_df, data_labels, SEQ_LENGTH)\n",
    "\n",
    "# Outputs for inspection\n",
    "print(\"Train set size:\", len(X_train))\n",
    "print(\"Validation set size:\", len(X_val))\n",
    "print(\"Test set size:\", len(X_test))"
   ]
  },
  {
   "cell_type": "code",
   "execution_count": 45,
   "id": "95ff0964-6e83-4223-a4d3-a04c7218b790",
   "metadata": {},
   "outputs": [],
   "source": [
    "def create_dataloaders(X_train, X_val, X_test, y_train, y_val, y_test, batch_size=32):\n",
    "    # Convert the data and labels into PyTorch tensors\n",
    "    train_data = TensorDataset(torch.tensor(X_train, dtype=torch.float32), torch.tensor(y_train, dtype=torch.long))\n",
    "    val_data = TensorDataset(torch.tensor(X_val, dtype=torch.float32), torch.tensor(y_val, dtype=torch.long))\n",
    "    test_data = TensorDataset(torch.tensor(X_test, dtype=torch.float32), torch.tensor(y_test, dtype=torch.long))\n",
    "    \n",
    "    # Compute class weights for CrossEntropyLoss\n",
    "    class_weights = compute_class_weight(\n",
    "        class_weight='balanced', \n",
    "        classes=np.array([0, 1]), \n",
    "        y=y_train\n",
    "    )\n",
    "    class_weights = torch.tensor(class_weights, dtype=torch.float32)\n",
    "    \n",
    "    # Create the WeightedRandomSampler for the training data\n",
    "    # The sampler will use the weights calculated from the class distribution\n",
    "    class_sample_count = [len(torch.nonzero(torch.tensor(y_train) == i)) for i in [0, 1]]\n",
    "    weights = [class_weights[int(label)] for label in y_train]\n",
    "    sampler = WeightedRandomSampler(weights, num_samples=len(weights), replacement=True)\n",
    "\n",
    "    # Create DataLoader for training, validation, and test sets\n",
    "    train_loader = DataLoader(train_data, batch_size=batch_size, sampler=sampler)\n",
    "    val_loader = DataLoader(val_data, batch_size=batch_size, shuffle=False)\n",
    "    test_loader = DataLoader(test_data, batch_size=batch_size, shuffle=False)\n",
    "    \n",
    "    return train_loader, val_loader, test_loader, class_weights"
   ]
  },
  {
   "cell_type": "code",
   "execution_count": 46,
   "id": "b48eda4d-33c2-4080-bba0-bb99a28a8f2b",
   "metadata": {},
   "outputs": [],
   "source": [
    "# Define the GRU model\n",
    "class GRUModel(nn.Module):\n",
    "    def __init__(self, input_size, hidden_size, output_size, num_layers=1, dropout=0.2, bidirectional=True):\n",
    "        super(GRUModel, self).__init__()\n",
    "        self.model_type = \"GRU\"\n",
    "        self.hidden_size = hidden_size\n",
    "        self.num_layers = num_layers\n",
    "        self.bidirectional = bidirectional\n",
    "        \n",
    "        # GRU layer with bidirectional option\n",
    "        self.gru = nn.GRU(\n",
    "            input_size=input_size,\n",
    "            hidden_size=hidden_size,\n",
    "            num_layers=num_layers,\n",
    "            batch_first=True,\n",
    "            dropout=dropout if num_layers > 1 else 0,  # Dropout only applied if num_layers > 1\n",
    "            bidirectional=bidirectional\n",
    "        )\n",
    "        \n",
    "        # Batch normalization for the GRU output\n",
    "        self.batch_norm = nn.BatchNorm1d(hidden_size * 2 if bidirectional else hidden_size)\n",
    "        \n",
    "        # Fully connected layer mapping GRU output to target output size\n",
    "        self.fc = nn.Linear(hidden_size * 2 if bidirectional else hidden_size, output_size)\n",
    "        \n",
    "        # Dropout for regularization before fully connected layer\n",
    "        self.dropout = nn.Dropout(dropout)\n",
    "\n",
    "    def forward(self, x):\n",
    "        # Determine batch size dynamically\n",
    "        batch_size = x.size(0)\n",
    "        \n",
    "        # Initialize hidden state\n",
    "        h0 = torch.zeros(\n",
    "            self.num_layers * (2 if self.bidirectional else 1),  # Double layers for bidirectional\n",
    "            batch_size,\n",
    "            self.hidden_size\n",
    "        ).to(x.device)  # Ensure the hidden state is on the same device as input\n",
    "\n",
    "        # GRU forward pass\n",
    "        out, _ = self.gru(x, h0)\n",
    "        \n",
    "        # Apply batch normalization to the last time step output\n",
    "        out_last = out[:, -1, :]  # Get the output of the last time step\n",
    "        out_last = self.batch_norm(out_last)\n",
    "    \n",
    "        # Apply dropout and fully connected layer\n",
    "        out_last = self.dropout(out_last)\n",
    "        out = self.fc(out_last)\n",
    "        \n",
    "        return out"
   ]
  },
  {
   "cell_type": "code",
   "execution_count": 51,
   "id": "70ef173e-84e2-4233-988a-b189bcde02df",
   "metadata": {},
   "outputs": [
    {
     "name": "stderr",
     "output_type": "stream",
     "text": [
      "/home/abey/.local/lib/python3.10/site-packages/torch/optim/lr_scheduler.py:62: UserWarning: The verbose parameter is deprecated. Please use get_last_lr() to access the learning rate.\n",
      "  warnings.warn(\n"
     ]
    }
   ],
   "source": [
    "# Define the model\n",
    "input_size = X_train.shape[1]  # Number of features\n",
    "hidden_size = 64  # Hidden state dimension\n",
    "output_size = 2  # Number of classes (normal, anomaly)\n",
    "num_layers = 2\n",
    "num_epochs = 20\n",
    "batch_size = 32\n",
    "\n",
    "scheduler = torch.optim.lr_scheduler.ReduceLROnPlateau(\n",
    "    optimizer, \n",
    "    mode='min',       # Reduce the LR when the validation loss stops improving\n",
    "    factor=0.5,       # Reduce the LR by half\n",
    "    patience=5,       # Wait for 5 epochs before reducing LR\n",
    "    verbose=True,     # Print a message when the LR is updated\n",
    "    min_lr=1e-6       # Minimum learning rate (avoid going too low)\n",
    ")\n",
    "\n",
    "# Create the dataloaders and get class weights for loss function\n",
    "train_loader, val_loader, test_loader, class_weights = create_dataloaders(X_train, X_val, X_test, \n",
    "                                                                          y_train, y_val, y_test, batch_size=batch_size)"
   ]
  },
  {
   "cell_type": "code",
   "execution_count": 52,
   "id": "d9a5354b-8604-4043-91f9-84c31e879a7e",
   "metadata": {},
   "outputs": [
    {
     "name": "stdout",
     "output_type": "stream",
     "text": [
      "\n",
      "Epoch 1/20, Train Accuracy: 0.4958\n",
      "Validation Loss: 0.8031, Accuracy: 28.26\n",
      "Model saved with validation loss: 0.8031\n",
      "\n",
      "Epoch 2/20, Train Accuracy: 0.4955\n",
      "Validation Loss: 0.7997, Accuracy: 28.26\n",
      "Model saved with validation loss: 0.7997\n",
      "\n",
      "Epoch 3/20, Train Accuracy: 0.5012\n",
      "Validation Loss: 0.8082, Accuracy: 28.26\n",
      "\n",
      "Epoch 4/20, Train Accuracy: 0.5000\n",
      "Validation Loss: 0.7788, Accuracy: 28.26\n",
      "Model saved with validation loss: 0.7788\n",
      "\n",
      "Epoch 5/20, Train Accuracy: 0.4942\n",
      "Validation Loss: 0.7923, Accuracy: 28.26\n",
      "\n",
      "Epoch 6/20, Train Accuracy: 0.4984\n",
      "Validation Loss: 0.7937, Accuracy: 28.26\n",
      "\n",
      "Epoch 7/20, Train Accuracy: 0.5050\n",
      "Validation Loss: 0.8075, Accuracy: 28.26\n",
      "\n",
      "Epoch 8/20, Train Accuracy: 0.5010\n",
      "Validation Loss: 0.7961, Accuracy: 28.26\n",
      "\n",
      "Epoch 9/20, Train Accuracy: 0.4999\n",
      "Validation Loss: 0.8026, Accuracy: 28.26\n",
      "\n",
      "Epoch 10/20, Train Accuracy: 0.4981\n",
      "Validation Loss: 0.7950, Accuracy: 28.26\n",
      "\n",
      "Epoch 11/20, Train Accuracy: 0.4955\n",
      "Validation Loss: 0.7910, Accuracy: 28.26\n",
      "\n",
      "Epoch 12/20, Train Accuracy: 0.5005\n",
      "Validation Loss: 0.7978, Accuracy: 28.26\n",
      "\n",
      "Epoch 13/20, Train Accuracy: 0.4981\n",
      "Validation Loss: 0.7963, Accuracy: 28.26\n",
      "\n",
      "Epoch 14/20, Train Accuracy: 0.5044\n",
      "Validation Loss: 0.8017, Accuracy: 28.26\n",
      "\n",
      "Epoch 15/20, Train Accuracy: 0.5001\n",
      "Validation Loss: 0.7991, Accuracy: 28.26\n"
     ]
    },
    {
     "ename": "KeyboardInterrupt",
     "evalue": "",
     "output_type": "error",
     "traceback": [
      "\u001b[0;31m---------------------------------------------------------------------------\u001b[0m",
      "\u001b[0;31mKeyboardInterrupt\u001b[0m                         Traceback (most recent call last)",
      "Cell \u001b[0;32mIn[52], line 23\u001b[0m\n\u001b[1;32m     21\u001b[0m \u001b[38;5;66;03m# Backward pass and optimization\u001b[39;00m\n\u001b[1;32m     22\u001b[0m optimizer\u001b[38;5;241m.\u001b[39mzero_grad()\n\u001b[0;32m---> 23\u001b[0m \u001b[43mloss\u001b[49m\u001b[38;5;241;43m.\u001b[39;49m\u001b[43mbackward\u001b[49m\u001b[43m(\u001b[49m\u001b[43m)\u001b[49m\n\u001b[1;32m     24\u001b[0m optimizer\u001b[38;5;241m.\u001b[39mstep()\n\u001b[1;32m     26\u001b[0m \u001b[38;5;66;03m# Track metrics\u001b[39;00m\n",
      "File \u001b[0;32m~/.local/lib/python3.10/site-packages/torch/_tensor.py:581\u001b[0m, in \u001b[0;36mTensor.backward\u001b[0;34m(self, gradient, retain_graph, create_graph, inputs)\u001b[0m\n\u001b[1;32m    571\u001b[0m \u001b[38;5;28;01mif\u001b[39;00m has_torch_function_unary(\u001b[38;5;28mself\u001b[39m):\n\u001b[1;32m    572\u001b[0m     \u001b[38;5;28;01mreturn\u001b[39;00m handle_torch_function(\n\u001b[1;32m    573\u001b[0m         Tensor\u001b[38;5;241m.\u001b[39mbackward,\n\u001b[1;32m    574\u001b[0m         (\u001b[38;5;28mself\u001b[39m,),\n\u001b[0;32m   (...)\u001b[0m\n\u001b[1;32m    579\u001b[0m         inputs\u001b[38;5;241m=\u001b[39minputs,\n\u001b[1;32m    580\u001b[0m     )\n\u001b[0;32m--> 581\u001b[0m \u001b[43mtorch\u001b[49m\u001b[38;5;241;43m.\u001b[39;49m\u001b[43mautograd\u001b[49m\u001b[38;5;241;43m.\u001b[39;49m\u001b[43mbackward\u001b[49m\u001b[43m(\u001b[49m\n\u001b[1;32m    582\u001b[0m \u001b[43m    \u001b[49m\u001b[38;5;28;43mself\u001b[39;49m\u001b[43m,\u001b[49m\u001b[43m \u001b[49m\u001b[43mgradient\u001b[49m\u001b[43m,\u001b[49m\u001b[43m \u001b[49m\u001b[43mretain_graph\u001b[49m\u001b[43m,\u001b[49m\u001b[43m \u001b[49m\u001b[43mcreate_graph\u001b[49m\u001b[43m,\u001b[49m\u001b[43m \u001b[49m\u001b[43minputs\u001b[49m\u001b[38;5;241;43m=\u001b[39;49m\u001b[43minputs\u001b[49m\n\u001b[1;32m    583\u001b[0m \u001b[43m\u001b[49m\u001b[43m)\u001b[49m\n",
      "File \u001b[0;32m~/.local/lib/python3.10/site-packages/torch/autograd/__init__.py:347\u001b[0m, in \u001b[0;36mbackward\u001b[0;34m(tensors, grad_tensors, retain_graph, create_graph, grad_variables, inputs)\u001b[0m\n\u001b[1;32m    342\u001b[0m     retain_graph \u001b[38;5;241m=\u001b[39m create_graph\n\u001b[1;32m    344\u001b[0m \u001b[38;5;66;03m# The reason we repeat the same comment below is that\u001b[39;00m\n\u001b[1;32m    345\u001b[0m \u001b[38;5;66;03m# some Python versions print out the first line of a multi-line function\u001b[39;00m\n\u001b[1;32m    346\u001b[0m \u001b[38;5;66;03m# calls in the traceback and some print out the last line\u001b[39;00m\n\u001b[0;32m--> 347\u001b[0m \u001b[43m_engine_run_backward\u001b[49m\u001b[43m(\u001b[49m\n\u001b[1;32m    348\u001b[0m \u001b[43m    \u001b[49m\u001b[43mtensors\u001b[49m\u001b[43m,\u001b[49m\n\u001b[1;32m    349\u001b[0m \u001b[43m    \u001b[49m\u001b[43mgrad_tensors_\u001b[49m\u001b[43m,\u001b[49m\n\u001b[1;32m    350\u001b[0m \u001b[43m    \u001b[49m\u001b[43mretain_graph\u001b[49m\u001b[43m,\u001b[49m\n\u001b[1;32m    351\u001b[0m \u001b[43m    \u001b[49m\u001b[43mcreate_graph\u001b[49m\u001b[43m,\u001b[49m\n\u001b[1;32m    352\u001b[0m \u001b[43m    \u001b[49m\u001b[43minputs\u001b[49m\u001b[43m,\u001b[49m\n\u001b[1;32m    353\u001b[0m \u001b[43m    \u001b[49m\u001b[43mallow_unreachable\u001b[49m\u001b[38;5;241;43m=\u001b[39;49m\u001b[38;5;28;43;01mTrue\u001b[39;49;00m\u001b[43m,\u001b[49m\n\u001b[1;32m    354\u001b[0m \u001b[43m    \u001b[49m\u001b[43maccumulate_grad\u001b[49m\u001b[38;5;241;43m=\u001b[39;49m\u001b[38;5;28;43;01mTrue\u001b[39;49;00m\u001b[43m,\u001b[49m\n\u001b[1;32m    355\u001b[0m \u001b[43m\u001b[49m\u001b[43m)\u001b[49m\n",
      "File \u001b[0;32m~/.local/lib/python3.10/site-packages/torch/autograd/graph.py:825\u001b[0m, in \u001b[0;36m_engine_run_backward\u001b[0;34m(t_outputs, *args, **kwargs)\u001b[0m\n\u001b[1;32m    823\u001b[0m     unregister_hooks \u001b[38;5;241m=\u001b[39m _register_logging_hooks_on_whole_graph(t_outputs)\n\u001b[1;32m    824\u001b[0m \u001b[38;5;28;01mtry\u001b[39;00m:\n\u001b[0;32m--> 825\u001b[0m     \u001b[38;5;28;01mreturn\u001b[39;00m \u001b[43mVariable\u001b[49m\u001b[38;5;241;43m.\u001b[39;49m\u001b[43m_execution_engine\u001b[49m\u001b[38;5;241;43m.\u001b[39;49m\u001b[43mrun_backward\u001b[49m\u001b[43m(\u001b[49m\u001b[43m  \u001b[49m\u001b[38;5;66;43;03m# Calls into the C++ engine to run the backward pass\u001b[39;49;00m\n\u001b[1;32m    826\u001b[0m \u001b[43m        \u001b[49m\u001b[43mt_outputs\u001b[49m\u001b[43m,\u001b[49m\u001b[43m \u001b[49m\u001b[38;5;241;43m*\u001b[39;49m\u001b[43margs\u001b[49m\u001b[43m,\u001b[49m\u001b[43m \u001b[49m\u001b[38;5;241;43m*\u001b[39;49m\u001b[38;5;241;43m*\u001b[39;49m\u001b[43mkwargs\u001b[49m\n\u001b[1;32m    827\u001b[0m \u001b[43m    \u001b[49m\u001b[43m)\u001b[49m  \u001b[38;5;66;03m# Calls into the C++ engine to run the backward pass\u001b[39;00m\n\u001b[1;32m    828\u001b[0m \u001b[38;5;28;01mfinally\u001b[39;00m:\n\u001b[1;32m    829\u001b[0m     \u001b[38;5;28;01mif\u001b[39;00m attach_logging_hooks:\n",
      "\u001b[0;31mKeyboardInterrupt\u001b[0m: "
     ]
    }
   ],
   "source": [
    "# Training loop\n",
    "model = GRUModel(input_size, hidden_size, output_size, num_layers, dropout=0.2).to(device)\n",
    "criterion = nn.CrossEntropyLoss(weight=class_weights.clone().detach().to(device))\n",
    "optimizer = optim.Adam(model.parameters(), lr=0.001, weight_decay=0.001)\n",
    "\n",
    "best_val_loss = float('inf')\n",
    "best_model_path = \"best_model.pth\"\n",
    "\n",
    "for epoch in range(num_epochs):\n",
    "    model.train()\n",
    "    total_loss = 0\n",
    "    correct, total = 0, 0\n",
    "\n",
    "    for inputs, targets in train_loader:\n",
    "        inputs, targets = inputs.to(device), targets.to(device)\n",
    "\n",
    "        # Forward pass\n",
    "        outputs = model(inputs)\n",
    "        loss = criterion(outputs, targets)\n",
    "\n",
    "        # Backward pass and optimization\n",
    "        optimizer.zero_grad()\n",
    "        loss.backward()\n",
    "        optimizer.step()\n",
    "\n",
    "        # Track metrics\n",
    "        total_loss += loss.item()\n",
    "        _, predicted = torch.max(outputs, 1)\n",
    "        correct += (predicted == targets).sum().item()\n",
    "        total += targets.size(0)\n",
    "\n",
    "    train_acc = correct / total\n",
    "    print(f\"\\nEpoch {epoch+1}/{num_epochs}, Train Accuracy: {train_acc:.4f}\")\n",
    "\n",
    "    # Validation loop\n",
    "    model.eval()\n",
    "    val_loss, val_correct, val_total = 0, 0, 0\n",
    "    with torch.no_grad():\n",
    "        for inputs, targets in val_loader:\n",
    "            inputs, targets = inputs.to(device), targets.to(device)\n",
    "            outputs = model(inputs)\n",
    "            loss = criterion(outputs, targets)\n",
    "\n",
    "            val_loss += loss.item()\n",
    "            _, predicted = torch.max(outputs, 1)\n",
    "            val_correct += (predicted == targets).sum().item()\n",
    "            val_total += targets.size(0)\n",
    "\n",
    "    val_accuracy = 100 * val_correct / val_total\n",
    "    avg_val_loss = val_loss / len(val_loader)\n",
    "    print(f\"Validation Loss: {avg_val_loss:.4f}, Accuracy: {val_accuracy:.2f}\")\n",
    "\n",
    "    # Save the model if validation loss has improved\n",
    "    if avg_val_loss < best_val_loss:\n",
    "        best_val_loss = avg_val_loss\n",
    "        torch.save(model.state_dict(), best_model_path)\n",
    "        print(f\"Model saved with validation loss: {avg_val_loss:.4f}\")\n",
    "\n",
    "    # Step the scheduler after validation\n",
    "    scheduler.step(avg_val_loss)  # This will adjust the learning rate based on validation loss\n"
   ]
  },
  {
   "cell_type": "code",
   "execution_count": null,
   "id": "f9748de0-acba-4a57-b22c-f17cb1112925",
   "metadata": {},
   "outputs": [],
   "source": []
  }
 ],
 "metadata": {
  "kernelspec": {
   "display_name": "Python 3 (ipykernel)",
   "language": "python",
   "name": "python3"
  },
  "language_info": {
   "codemirror_mode": {
    "name": "ipython",
    "version": 3
   },
   "file_extension": ".py",
   "mimetype": "text/x-python",
   "name": "python",
   "nbconvert_exporter": "python",
   "pygments_lexer": "ipython3",
   "version": "3.10.12"
  }
 },
 "nbformat": 4,
 "nbformat_minor": 5
}
