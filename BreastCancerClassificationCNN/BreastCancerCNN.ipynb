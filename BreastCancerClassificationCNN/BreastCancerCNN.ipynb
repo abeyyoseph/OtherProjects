{
 "cells": [
  {
   "cell_type": "code",
   "execution_count": 5,
   "id": "7c2e9ab7-a3e8-4585-994c-befcd74ac0a2",
   "metadata": {},
   "outputs": [],
   "source": [
    "import pandas as pd\n",
    "import numpy as np\n",
    "import os\n",
    "import torch\n",
    "import torchvision.transforms as transforms\n",
    "import torchvision.datasets as datasets\n",
    "from torch.utils.data import DataLoader, random_split, WeightedRandomSampler, Subset\n",
    "import torch.nn as nn\n",
    "from sklearn.model_selection import train_test_split\n",
    "from torchvision.datasets import ImageFolder\n",
    "import torch.optim as optim\n",
    "import shutil"
   ]
  },
  {
   "cell_type": "code",
   "execution_count": 4,
   "id": "8ea96ab8-6502-4918-8760-b834b5eed798",
   "metadata": {},
   "outputs": [
    {
     "name": "stdout",
     "output_type": "stream",
     "text": [
      "Number of benign image files: 198738\n",
      "Number of cancerous image files: 78786\n"
     ]
    }
   ],
   "source": [
    "# Path to the original image directory\n",
    "base_dir = \"HistopathologyImages\"\n",
    "\n",
    "cancer_image_count = 0\n",
    "benign_image_count = 0\n",
    "\n",
    "# Traverse through patient directories\n",
    "for patient_id in os.listdir(base_dir):\n",
    "    patient_path = os.path.join(base_dir, patient_id)\n",
    "    \n",
    "    # Check if the path is a directory\n",
    "    if os.path.isdir(patient_path):\n",
    "        # Count benign files\n",
    "        benign_dir = os.path.join(patient_path, '0')\n",
    "        if os.path.isdir(benign_dir):\n",
    "            benign_image_count += len(os.listdir(benign_dir))\n",
    "        \n",
    "        # Count cancerous files\n",
    "        cancerous_dir = os.path.join(patient_path, '1')\n",
    "        if os.path.isdir(cancerous_dir):\n",
    "            cancer_image_count += len(os.listdir(cancerous_dir))\n",
    "\n",
    "print(f\"Number of benign image files: {benign_image_count}\")\n",
    "print(f\"Number of cancerous image files: {cancer_image_count}\")"
   ]
  },
  {
   "cell_type": "code",
   "execution_count": 6,
   "id": "c1603d37-b282-47cf-bca8-e0f2f39bd87b",
   "metadata": {},
   "outputs": [],
   "source": [
    "# Function to move files to respective directories\n",
    "def move_files(file_paths, labels, destination):\n",
    "    for file_path, label in zip(file_paths, labels):\n",
    "        label_dir = os.path.join(destination, label)\n",
    "        os.makedirs(label_dir, exist_ok=True)\n",
    "        shutil.move(file_path, label_dir)"
   ]
  },
  {
   "cell_type": "code",
   "execution_count": 7,
   "id": "7e41fb56-fc12-4457-9525-70a4c48d11b1",
   "metadata": {},
   "outputs": [
    {
     "name": "stdout",
     "output_type": "stream",
     "text": [
      "Training and validation datasets created at 'HistopathologySplit'.\n",
      "Number of training images: 222019\n",
      "Number of validation images: 55505\n"
     ]
    }
   ],
   "source": [
    "# Move files from original directory to new one with separate cancerous and benign subdirectories\n",
    "output_dir = 'HistopathologySplit'  # Directory to store the split data\n",
    "\n",
    "# Create training and validation directories\n",
    "train_dir = os.path.join(output_dir, 'train')\n",
    "val_dir = os.path.join(output_dir, 'val')\n",
    "\n",
    "# Initialize lists for image paths and labels\n",
    "image_paths = []\n",
    "labels = []\n",
    "\n",
    "# Collect image file paths and labels\n",
    "for patient_id in os.listdir(base_dir):\n",
    "    patient_path = os.path.join(base_dir, patient_id)\n",
    "    \n",
    "    if os.path.isdir(patient_path):\n",
    "        for label in ['0', '1']:\n",
    "            label_dir = os.path.join(patient_path, label)\n",
    "            if os.path.isdir(label_dir):\n",
    "                for image_name in os.listdir(label_dir):\n",
    "                    image_path = os.path.join(label_dir, image_name)\n",
    "                    image_paths.append(image_path)\n",
    "                    labels.append(label)\n",
    "\n",
    "# Create a stratified train-test split with 20% being used for validation data.\n",
    "train_paths, val_paths, train_labels, val_labels = train_test_split(\n",
    "    image_paths, labels, test_size=0.2, stratify=labels, random_state=42\n",
    ")\n",
    "\n",
    "# Move training and validation files\n",
    "move_files(train_paths, train_labels, train_dir)\n",
    "move_files(val_paths, val_labels, val_dir)\n",
    "\n",
    "print(f\"Training and validation datasets created at '{output_dir}'.\")\n",
    "print(f\"Number of training images: {len(train_paths)}\")\n",
    "print(f\"Number of validation images: {len(val_paths)}\")"
   ]
  },
  {
   "cell_type": "code",
   "execution_count": 10,
   "id": "e05691c0-701d-49b5-9030-5b76880f6def",
   "metadata": {},
   "outputs": [],
   "source": [
    "# Define image transformations for the training and validation datasets\n",
    "train_transforms = transforms.Compose([transforms.RandomHorizontalFlip(),\n",
    "    transforms.ColorJitter(brightness=0.15, contrast=0.1, saturation=0.2, hue=0.05),\n",
    "    transforms.RandomRotation(degrees=15),\n",
    "    transforms.RandomErasing(p=0.5, scale=(0.02, 0.1), ratio=(0.3, 3.3)),\n",
    "    transforms.GaussianBlur(kernel_size=(3, 3), sigma=(0.1, 5)),\n",
    "    transforms.RandomAffine(degrees=0, translate=(0.1, 0.1)),\n",
    "    transforms.ToTensor(),\n",
    "    transforms.Normalize([0.485, 0.456, 0.406], [0.229, 0.224, 0.225])                                       \n",
    "                                      ])\n",
    "\n",
    "val_transforms = transforms.Compose([\n",
    "    transforms.ToTensor(),\n",
    "    transforms.Normalize([0.485, 0.456, 0.406], [0.229, 0.224, 0.225])\n",
    "])"
   ]
  },
  {
   "cell_type": "code",
   "execution_count": 13,
   "id": "3e5e6d46-877a-40d7-933f-f414c4066718",
   "metadata": {},
   "outputs": [
    {
     "name": "stdout",
     "output_type": "stream",
     "text": [
      "Number of training samples: 222019\n",
      "Number of validation samples: 55505\n"
     ]
    }
   ],
   "source": [
    "# Load the dataset with the defined transformations\n",
    "train_dataset = datasets.ImageFolder(root=f'{output_dir}/train', transform=train_transforms)\n",
    "val_dataset = datasets.ImageFolder(root=f'{output_dir}/val', transform=val_transforms)\n",
    "\n",
    "# Extract class labels from the dataset\n",
    "targets = train_dataset.targets\n",
    "\n",
    "# Calculate class weights, which are the inverse of class frequencies. Classes with fewer samples will get assigned a higher \n",
    "# weight (ensuring that the minority class receives a higher weight, making it more likely to be sampled during training).\n",
    "class_counts = np.bincount(targets)  # Count the number of samples per class\n",
    "class_weights = 1.0 / torch.tensor(class_counts, dtype=torch.float)\n",
    "sample_weights = torch.tensor([class_weights[label] for label in targets])\n",
    "\n",
    "# Create the WeightedRandomSampler using the class weights\n",
    "sampler = WeightedRandomSampler(weights=sample_weights, num_samples=len(sample_weights), replacement=True)\n",
    "\n",
    "# Create DataLoaders with the sampler for training\n",
    "train_loader = DataLoader(train_dataset, batch_size=32, sampler=sampler, num_workers=4)\n",
    "\n",
    "# Create DataLoader for validation without a sampler\n",
    "val_loader = DataLoader(val_dataset, batch_size=32, shuffle=False, num_workers=4)\n",
    "\n",
    "# Print sample stats (optional)\n",
    "print(f\"Number of training samples: {len(train_loader.dataset)}\")\n",
    "print(f\"Number of validation samples: {len(val_loader.dataset)}\")"
   ]
  },
  {
   "cell_type": "code",
   "execution_count": null,
   "id": "64895b9d-9a5c-47f8-8412-3636600004bc",
   "metadata": {},
   "outputs": [],
   "source": []
  }
 ],
 "metadata": {
  "kernelspec": {
   "display_name": "Python 3 (ipykernel)",
   "language": "python",
   "name": "python3"
  },
  "language_info": {
   "codemirror_mode": {
    "name": "ipython",
    "version": 3
   },
   "file_extension": ".py",
   "mimetype": "text/x-python",
   "name": "python",
   "nbconvert_exporter": "python",
   "pygments_lexer": "ipython3",
   "version": "3.10.12"
  }
 },
 "nbformat": 4,
 "nbformat_minor": 5
}
