{
 "cells": [
  {
   "cell_type": "code",
   "execution_count": 6,
   "id": "17186db7-de12-4477-bc2a-41e2a5d1ea4a",
   "metadata": {},
   "outputs": [],
   "source": [
    "import pandas as pd\n",
    "import os\n",
    "from sklearn.model_selection import train_test_split\n",
    "from sklearn.preprocessing import MinMaxScaler"
   ]
  },
  {
   "cell_type": "code",
   "execution_count": 4,
   "id": "f53a2336-1d8a-4a93-b04f-65dc77608d32",
   "metadata": {},
   "outputs": [],
   "source": [
    "base_dir = \"SKAB\""
   ]
  },
  {
   "cell_type": "code",
   "execution_count": 1,
   "id": "c9286ba0-ad6b-4ed2-b622-dbe344ec46a4",
   "metadata": {},
   "outputs": [],
   "source": [
    "# Load data from directories\n",
    "def load_data(base_dir):\n",
    "    data = []\n",
    "    labels = []\n",
    "    for folder in [\"anomaly-free\", \"other\", \"valve1\", \"valve2\"]:\n",
    "        folder_path = os.path.join(base_dir, folder)\n",
    "        label = 0 if folder == \"anomaly-free\" else 1\n",
    "        for file in os.listdir(folder_path):\n",
    "            file_path = os.path.join(folder_path, file)\n",
    "            # Need to handle datetime column\n",
    "            df = pd.read_csv(file_path, sep=\";\", parse_dates=[\"datetime\"])\n",
    "            data.append(df)\n",
    "            labels.extend([label] * len(df))  # Assign label to each row\n",
    "    return pd.concat(data, ignore_index=True), labels"
   ]
  },
  {
   "cell_type": "code",
   "execution_count": 2,
   "id": "6b19a75d-c940-4ac3-a370-65178f5be538",
   "metadata": {},
   "outputs": [],
   "source": [
    "# Normalize and split data into training (60%), validation (20%), test (20%)\n",
    "def preprocess_data(df, labels):\n",
    "    # Only want to use the MinMaxScaler on numerical data, not the datetime\n",
    "    numeric_data = df.select_dtypes(include=[\"float64\", \"int64\"])\n",
    "    scaler = MinMaxScaler()\n",
    "    scaled_data = scaler.fit_transform(numeric_data)\n",
    "\n",
    "    # First split: train vs (validation + test)\n",
    "    X_train, X_temp, y_train, y_temp = train_test_split(\n",
    "        scaled_data, labels, test_size=0.4, stratify=labels, random_state=42\n",
    "    )\n",
    "    \n",
    "    # Second split: validation vs test\n",
    "    X_val, X_test, y_val, y_test = train_test_split(\n",
    "        X_temp, y_temp, test_size=0.5, stratify=y_temp, random_state=42\n",
    "    )\n",
    "    \n",
    "    return X_train, X_val, X_test, y_train, y_val, y_test"
   ]
  },
  {
   "cell_type": "code",
   "execution_count": 7,
   "id": "194ecf7e-a4fe-4575-abe1-9cde8dc5013a",
   "metadata": {},
   "outputs": [
    {
     "name": "stdout",
     "output_type": "stream",
     "text": [
      "Train set size: 28116\n",
      "Validation set size: 9372\n",
      "Test set size: 9372\n"
     ]
    }
   ],
   "source": [
    "# Load and preprocess data\n",
    "all_data_df, labels = load_data(base_dir)\n",
    "X_train, X_val, X_test, y_train, y_val, y_test = preprocess_data(all_data_df, labels)\n",
    "\n",
    "# Outputs for inspection\n",
    "print(\"Train set size:\", len(X_train))\n",
    "print(\"Validation set size:\", len(X_val))\n",
    "print(\"Test set size:\", len(X_test))"
   ]
  },
  {
   "cell_type": "code",
   "execution_count": null,
   "id": "5c7192f1-e967-43f9-aeb4-b32663da0c2f",
   "metadata": {},
   "outputs": [],
   "source": []
  }
 ],
 "metadata": {
  "kernelspec": {
   "display_name": "Python 3 (ipykernel)",
   "language": "python",
   "name": "python3"
  },
  "language_info": {
   "codemirror_mode": {
    "name": "ipython",
    "version": 3
   },
   "file_extension": ".py",
   "mimetype": "text/x-python",
   "name": "python",
   "nbconvert_exporter": "python",
   "pygments_lexer": "ipython3",
   "version": "3.10.12"
  }
 },
 "nbformat": 4,
 "nbformat_minor": 5
}
