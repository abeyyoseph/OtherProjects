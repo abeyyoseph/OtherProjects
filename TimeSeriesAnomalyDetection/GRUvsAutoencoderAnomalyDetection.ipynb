{
 "cells": [
  {
   "cell_type": "code",
   "execution_count": 29,
   "id": "17186db7-de12-4477-bc2a-41e2a5d1ea4a",
   "metadata": {},
   "outputs": [],
   "source": [
    "import pandas as pd\n",
    "import os\n",
    "from sklearn.model_selection import train_test_split\n",
    "from sklearn.preprocessing import MinMaxScaler\n",
    "import torch\n",
    "import torch.nn as nn\n",
    "from collections import Counter\n",
    "from torch.utils.data import DataLoader, WeightedRandomSampler\n",
    "from sklearn.utils.class_weight import compute_class_weight"
   ]
  },
  {
   "cell_type": "code",
   "execution_count": 2,
   "id": "f53a2336-1d8a-4a93-b04f-65dc77608d32",
   "metadata": {},
   "outputs": [],
   "source": [
    "base_dir = \"SKAB\""
   ]
  },
  {
   "cell_type": "code",
   "execution_count": 24,
   "id": "c9286ba0-ad6b-4ed2-b622-dbe344ec46a4",
   "metadata": {},
   "outputs": [],
   "source": [
    "# Load data from directories\n",
    "def load_data(base_dir):\n",
    "    data = []\n",
    "    labels = []\n",
    "    for folder in [\"anomaly-free\", \"other\", \"valve1\", \"valve2\"]:\n",
    "        folder_path = os.path.join(base_dir, folder)\n",
    "        for file in os.listdir(folder_path):\n",
    "            file_path = os.path.join(folder_path, file)\n",
    "            # Load the CSV file and parse the 'datetime' column\n",
    "            df = pd.read_csv(file_path, sep=\";\", parse_dates=[\"datetime\"])\n",
    "            \n",
    "            # Assign labels based on the folder and check if 'anomaly' column exists\n",
    "            if folder == \"anomaly-free\":\n",
    "                # If the folder is 'anomaly-free', assign a 0 label for all rows\n",
    "                data.append(df)\n",
    "                labels.extend([0] * len(df))  # Label all rows as 0 (no anomaly)\n",
    "            else:\n",
    "                data.append(df)  # Add to data list for other folders as well\n",
    "                \n",
    "                # For other folders, check for the 'anomaly' column\n",
    "                if \"anomaly\" in df.columns:\n",
    "                    labels.extend(df[\"anomaly\"].values)  # Use 'anomaly' column for labeling\n",
    "                else:\n",
    "                    # Handle case if there's no 'anomaly' column in the other folders\n",
    "                    print(f\"Warning: 'anomaly' column not found in {file_path}. Assigning label 1 by default.\")\n",
    "                    labels.extend([1] * len(df))  # Default to 1 for anomaly detection\n",
    "    \n",
    "    # Concatenate the data from all files and return\n",
    "    return pd.concat(data, ignore_index=True), labels"
   ]
  },
  {
   "cell_type": "code",
   "execution_count": 25,
   "id": "194ecf7e-a4fe-4575-abe1-9cde8dc5013a",
   "metadata": {},
   "outputs": [],
   "source": [
    "# Load and preprocess data\n",
    "all_data_df, labels = load_data(base_dir)"
   ]
  },
  {
   "cell_type": "code",
   "execution_count": 26,
   "id": "5c7192f1-e967-43f9-aeb4-b32663da0c2f",
   "metadata": {},
   "outputs": [
    {
     "name": "stdout",
     "output_type": "stream",
     "text": [
      "<class 'pandas.core.frame.DataFrame'>\n",
      "RangeIndex: 46860 entries, 0 to 46859\n",
      "Data columns (total 11 columns):\n",
      " #   Column               Non-Null Count  Dtype         \n",
      "---  ------               --------------  -----         \n",
      " 0   datetime             46860 non-null  datetime64[ns]\n",
      " 1   Accelerometer1RMS    46860 non-null  float64       \n",
      " 2   Accelerometer2RMS    46860 non-null  float64       \n",
      " 3   Current              46860 non-null  float64       \n",
      " 4   Pressure             46860 non-null  float64       \n",
      " 5   Temperature          46860 non-null  float64       \n",
      " 6   Thermocouple         46860 non-null  float64       \n",
      " 7   Voltage              46860 non-null  float64       \n",
      " 8   Volume Flow RateRMS  46860 non-null  float64       \n",
      " 9   anomaly              37459 non-null  float64       \n",
      " 10  changepoint          37459 non-null  float64       \n",
      "dtypes: datetime64[ns](1), float64(10)\n",
      "memory usage: 3.9 MB\n"
     ]
    }
   ],
   "source": [
    "all_data_df.info()"
   ]
  },
  {
   "cell_type": "code",
   "execution_count": null,
   "id": "dfc47f94-f94c-4e8d-8d2f-9f03a1b02cc5",
   "metadata": {},
   "outputs": [],
   "source": [
    "# Above shows that there are no missing entries in the rows. The \"anomaly\" and \"changepoint\" columns need to be\n",
    "# removed due to data leakage."
   ]
  },
  {
   "cell_type": "code",
   "execution_count": 18,
   "id": "568793fe-7d26-4c14-a156-dcf9c15ab45d",
   "metadata": {},
   "outputs": [
    {
     "name": "stdout",
     "output_type": "stream",
     "text": [
      "Class 0: 9401 samples\n",
      "Class 1: 37459 samples\n"
     ]
    }
   ],
   "source": [
    "# Understand class imbalance\n",
    "label_counts = Counter(labels)\n",
    "\n",
    "# Display the counts for each class\n",
    "for label, count in label_counts.items():\n",
    "    print(f\"Class {label}: {count} samples\")"
   ]
  },
  {
   "cell_type": "code",
   "execution_count": 27,
   "id": "e35a9de7-f870-4ebf-b10e-bc538709949b",
   "metadata": {},
   "outputs": [],
   "source": [
    "def preprocess_data(df, labels):\n",
    "    # Exclude columns that could cause data leakage (e.g., \"anomaly\" or \"changepoint\")\n",
    "    columns_to_exclude = [\"anomaly\", \"changepoint\"]\n",
    "    for col in columns_to_exclude:\n",
    "        if col in df.columns:\n",
    "            df = df.drop(columns=[col])\n",
    "    \n",
    "    # Only want to use the MinMaxScaler on numerical data, not the datetime\n",
    "    numeric_data = df.select_dtypes(include=[\"float64\", \"int64\"])\n",
    "    \n",
    "    # Scale the numerical data\n",
    "    scaler = MinMaxScaler()\n",
    "    scaled_data = scaler.fit_transform(numeric_data)\n",
    "    \n",
    "    # Perform stratified split into train (60%), validation (20%), and test (20%)\n",
    "    X_train, X_temp, y_train, y_temp = train_test_split(\n",
    "        scaled_data, labels, test_size=0.4, stratify=labels, random_state=42\n",
    "    )\n",
    "    \n",
    "    X_val, X_test, y_val, y_test = train_test_split(\n",
    "        X_temp, y_temp, test_size=0.5, stratify=y_temp, random_state=42\n",
    "    )\n",
    "    \n",
    "    return X_train, X_val, X_test, y_train, y_val, y_test\n"
   ]
  },
  {
   "cell_type": "code",
   "execution_count": 28,
   "id": "733aad18-1879-4350-b014-ced916610614",
   "metadata": {},
   "outputs": [
    {
     "name": "stdout",
     "output_type": "stream",
     "text": [
      "Train set size: 28116\n",
      "Validation set size: 9372\n",
      "Test set size: 9372\n"
     ]
    }
   ],
   "source": [
    "X_train, X_val, X_test, y_train, y_val, y_test = preprocess_data(all_data_df, labels)\n",
    "\n",
    "# Outputs for inspection\n",
    "print(\"Train set size:\", len(X_train))\n",
    "print(\"Validation set size:\", len(X_val))\n",
    "print(\"Test set size:\", len(X_test))"
   ]
  },
  {
   "cell_type": "code",
   "execution_count": 30,
   "id": "95ff0964-6e83-4223-a4d3-a04c7218b790",
   "metadata": {},
   "outputs": [],
   "source": [
    "def create_dataloaders(X_train, X_val, X_test, y_train, y_val, y_test, batch_size=64):\n",
    "    # Convert the data and labels into PyTorch tensors\n",
    "    train_data = TensorDataset(torch.tensor(X_train, dtype=torch.float32), torch.tensor(y_train, dtype=torch.long))\n",
    "    val_data = TensorDataset(torch.tensor(X_val, dtype=torch.float32), torch.tensor(y_val, dtype=torch.long))\n",
    "    test_data = TensorDataset(torch.tensor(X_test, dtype=torch.float32), torch.tensor(y_test, dtype=torch.long))\n",
    "    \n",
    "    # Compute class weights for CrossEntropyLoss\n",
    "    class_weights = compute_class_weight(\n",
    "        class_weight='balanced', \n",
    "        classes=[0, 1], \n",
    "        y=y_train\n",
    "    )\n",
    "    class_weights = torch.tensor(class_weights, dtype=torch.float32)\n",
    "    \n",
    "    # Create the WeightedRandomSampler for the training data\n",
    "    # The sampler will use the weights calculated from the class distribution\n",
    "    class_sample_count = [len(torch.nonzero(torch.tensor(y_train) == i)) for i in [0, 1]]\n",
    "    weights = [class_weights[label] for label in y_train]\n",
    "    sampler = WeightedRandomSampler(weights, num_samples=len(weights), replacement=True)\n",
    "\n",
    "    # Create DataLoader for training, validation, and test sets\n",
    "    train_loader = DataLoader(train_data, batch_size=batch_size, sampler=sampler)\n",
    "    val_loader = DataLoader(val_data, batch_size=batch_size, shuffle=False)\n",
    "    test_loader = DataLoader(test_data, batch_size=batch_size, shuffle=False)\n",
    "    \n",
    "    return train_loader, val_loader, test_loader, class_weights"
   ]
  },
  {
   "cell_type": "code",
   "execution_count": 15,
   "id": "b48eda4d-33c2-4080-bba0-bb99a28a8f2b",
   "metadata": {},
   "outputs": [],
   "source": [
    "# Define the GRU model\n",
    "class GRUModel(nn.Module):\n",
    "    def __init__(self, input_size, hidden_size, output_size, num_layers=1, dropout=0.2, bidirectional=True):\n",
    "        super(GRUModel, self).__init__()\n",
    "        self.model_type = \"GRU\"\n",
    "        self.hidden_size = hidden_size\n",
    "        self.num_layers = num_layers\n",
    "        self.bidirectional = bidirectional\n",
    "        \n",
    "        # GRU layer with bidirectional option\n",
    "        self.gru = nn.GRU(\n",
    "            input_size=input_size,\n",
    "            hidden_size=hidden_size,\n",
    "            num_layers=num_layers,\n",
    "            batch_first=True,\n",
    "            dropout=dropout if num_layers > 1 else 0,  # Dropout only applied if num_layers > 1\n",
    "            bidirectional=bidirectional\n",
    "        )\n",
    "        \n",
    "        # Batch normalization for the GRU output\n",
    "        self.batch_norm = nn.BatchNorm1d(hidden_size * 2 if bidirectional else hidden_size)\n",
    "        \n",
    "        # Fully connected layer mapping GRU output to target output size\n",
    "        self.fc = nn.Linear(hidden_size * 2 if bidirectional else hidden_size, output_size)\n",
    "        \n",
    "        # Dropout for regularization before fully connected layer\n",
    "        self.dropout = nn.Dropout(dropout)\n",
    "\n",
    "    def forward(self, x):\n",
    "        # Initialize the hidden state\n",
    "        h0 = torch.zeros(\n",
    "            self.num_layers * (2 if self.bidirectional else 1),  # Double layers for bidirectional\n",
    "            x.size(0), \n",
    "            self.hidden_size\n",
    "        ).to(x.device)  # Ensure the hidden state is on the same device as input\n",
    "\n",
    "        # GRU forward pass\n",
    "        out, _ = self.gru(x, h0)\n",
    "        \n",
    "        # Apply batch normalization to the last time step output\n",
    "        out_last = out[:, -1, :]  # Get the output of the last time step\n",
    "        out_last = self.batch_norm(out_last)\n",
    "\n",
    "        # Apply dropout and fully connected layer\n",
    "        out_last = self.dropout(out_last)\n",
    "        out = self.fc(out_last)\n",
    "        \n",
    "        return out"
   ]
  },
  {
   "cell_type": "code",
   "execution_count": null,
   "id": "5befeb83-959e-40d9-9c05-09100f6a2c35",
   "metadata": {},
   "outputs": [],
   "source": []
  }
 ],
 "metadata": {
  "kernelspec": {
   "display_name": "Python 3 (ipykernel)",
   "language": "python",
   "name": "python3"
  },
  "language_info": {
   "codemirror_mode": {
    "name": "ipython",
    "version": 3
   },
   "file_extension": ".py",
   "mimetype": "text/x-python",
   "name": "python",
   "nbconvert_exporter": "python",
   "pygments_lexer": "ipython3",
   "version": "3.10.12"
  }
 },
 "nbformat": 4,
 "nbformat_minor": 5
}
